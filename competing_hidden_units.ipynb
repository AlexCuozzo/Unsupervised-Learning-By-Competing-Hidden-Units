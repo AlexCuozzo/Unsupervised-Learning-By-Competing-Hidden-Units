{
  "nbformat": 4,
  "nbformat_minor": 0,
  "metadata": {
    "colab": {
      "name": "competing_hidden_units.ipynb",
      "provenance": [],
      "machine_shape": "hm",
      "include_colab_link": true
    },
    "kernelspec": {
      "name": "python3",
      "display_name": "Python 3"
    },
    "accelerator": "GPU"
  },
  "cells": [
    {
      "cell_type": "markdown",
      "metadata": {
        "id": "view-in-github",
        "colab_type": "text"
      },
      "source": [
        "<a href=\"https://colab.research.google.com/github/AlexCuozzo/Unsupervised-Learning-By-Competing-Hidden-Units/blob/master/competing_hidden_units.ipynb\" target=\"_parent\"><img src=\"https://colab.research.google.com/assets/colab-badge.svg\" alt=\"Open In Colab\"/></a>"
      ]
    },
    {
      "cell_type": "markdown",
      "metadata": {
        "id": "spLGM778xUts",
        "colab_type": "text"
      },
      "source": [
        "Importing Datasets: MNIST and CIFAR-10"
      ]
    },
    {
      "cell_type": "code",
      "metadata": {
        "id": "gmHkRSUjxaiQ",
        "colab_type": "code",
        "colab": {}
      },
      "source": [
        "  \n",
        "import scipy.io, os\n",
        "import numpy as np\n",
        "import matplotlib.pyplot as plt\n",
        "\n",
        "from time import time\n",
        "\n",
        "import torch\n",
        "import torch.nn as nn\n",
        "import torch.nn.functional as F\n",
        "from torch.utils.tensorboard import SummaryWriter\n",
        "\n",
        "from torch.utils.data import TensorDataset, DataLoader\n",
        "from torch.optim import Adam"
      ],
      "execution_count": null,
      "outputs": []
    },
    {
      "cell_type": "code",
      "metadata": {
        "id": "tQ3KZrANrTdw",
        "colab_type": "code",
        "colab": {
          "base_uri": "https://localhost:8080/",
          "height": 51
        },
        "outputId": "5755e119-f512-4793-eb3c-dfc619ffed5b"
      },
      "source": [
        "import tensorflow as tf\n",
        "mnist  = tf.keras.datasets.mnist\n",
        "(mnist_train_x, mnist_train_y), (mnist_test_x, mnist_test_y) = mnist.load_data() #load data\n",
        "mnist_train_x, mnist_test_x = torch.tensor(mnist_train_x.reshape(-1, 28*28, order=\"F\")/255, dtype=torch.float), torch.tensor(mnist_test_x.reshape(-1, 28*28, order=\"F\")/255, dtype=torch.float)\n",
        "mnist_train_y, mnist_test_y = torch.tensor(mnist_train_y), torch.tensor(mnist_test_y)"
      ],
      "execution_count": null,
      "outputs": [
        {
          "output_type": "stream",
          "text": [
            "Downloading data from https://storage.googleapis.com/tensorflow/tf-keras-datasets/mnist.npz\n",
            "11493376/11490434 [==============================] - 0s 0us/step\n"
          ],
          "name": "stdout"
        }
      ]
    },
    {
      "cell_type": "code",
      "metadata": {
        "id": "6Fkp9gEOzAAw",
        "colab_type": "code",
        "colab": {
          "base_uri": "https://localhost:8080/",
          "height": 51
        },
        "outputId": "106fdb9a-bc38-4fe3-91fc-5b7a4dc5dd1c"
      },
      "source": [
        "cifar10  = tf.keras.datasets.cifar10\n",
        "(cifar10_train_x_raw, cifar10_train_y_raw), (cifar10_test_x_raw, cifar10_test_y_raw) = cifar10.load_data() #load data\n",
        "cifar10_train_x, cifar10_test_x = torch.tensor(cifar10_train_x_raw.reshape(-1, 32*32*3, order=\"F\")/255, dtype=torch.float), torch.tensor(cifar10_test_x_raw.reshape(-1, 32*32*3, order=\"F\")/255, dtype=torch.float)\n",
        "cifar10_train_y, cifar10_test_y = torch.tensor(cifar10_train_y_raw), torch.tensor(cifar10_test_y_raw)"
      ],
      "execution_count": null,
      "outputs": [
        {
          "output_type": "stream",
          "text": [
            "Downloading data from https://www.cs.toronto.edu/~kriz/cifar-10-python.tar.gz\n",
            "170500096/170498071 [==============================] - 4s 0us/step\n"
          ],
          "name": "stdout"
        }
      ]
    },
    {
      "cell_type": "code",
      "metadata": {
        "id": "VJA9a5iL6y-1",
        "colab_type": "code",
        "colab": {
          "base_uri": "https://localhost:8080/",
          "height": 153
        },
        "outputId": "08b5cb0a-2535-4fd4-94f8-759e49923543"
      },
      "source": [
        "fashion_mnist  = tf.keras.datasets.fashion_mnist\n",
        "(fashion_mnist_train_x, fashion_mnist_train_y), (fashion_mnist_test_x, fashion_mnist_test_y) = fashion_mnist.load_data() #load data\n",
        "fashion_mnist_train_x, fashion_mnist_test_x = torch.tensor(fashion_mnist_train_x.reshape(-1, 28*28, order=\"F\")/255, dtype=torch.float), torch.tensor(fashion_mnist_test_x.reshape(-1, 28*28, order=\"F\")/255, dtype=torch.float)\n",
        "fashion_mnist_train_y, fashion_mnist_test_y = torch.tensor(fashion_mnist_train_y), torch.tensor(fashion_mnist_test_y)"
      ],
      "execution_count": null,
      "outputs": [
        {
          "output_type": "stream",
          "text": [
            "Downloading data from https://storage.googleapis.com/tensorflow/tf-keras-datasets/train-labels-idx1-ubyte.gz\n",
            "32768/29515 [=================================] - 0s 0us/step\n",
            "Downloading data from https://storage.googleapis.com/tensorflow/tf-keras-datasets/train-images-idx3-ubyte.gz\n",
            "26427392/26421880 [==============================] - 1s 0us/step\n",
            "Downloading data from https://storage.googleapis.com/tensorflow/tf-keras-datasets/t10k-labels-idx1-ubyte.gz\n",
            "8192/5148 [===============================================] - 0s 0us/step\n",
            "Downloading data from https://storage.googleapis.com/tensorflow/tf-keras-datasets/t10k-images-idx3-ubyte.gz\n",
            "4423680/4422102 [==============================] - 0s 0us/step\n"
          ],
          "name": "stdout"
        }
      ]
    },
    {
      "cell_type": "code",
      "metadata": {
        "id": "A0E7MjKeuuv7",
        "colab_type": "code",
        "colab": {}
      },
      "source": [
        "import matplotlib.pyplot as plt\n",
        "\n",
        "from matplotlib import animation, rc\n",
        "from IPython.display import HTML"
      ],
      "execution_count": null,
      "outputs": []
    },
    {
      "cell_type": "code",
      "metadata": {
        "id": "xrRjqHtAwXqt",
        "colab_type": "code",
        "colab": {}
      },
      "source": [
        "def get_unsupervised_weights(X, n_hidden, n_epochs, batch_size, prev_weights = None,\n",
        "        learning_rate=2e-2, precision=1e-30, anti_hebbian_learning_strength=0.4, lebesgue_norm=2.0, rank=2, skip=1):\n",
        "    sample_sz = X.shape[1]    \n",
        "    if prev_weights is not None:\n",
        "      weights = prev_weights.cuda()\n",
        "    else:\n",
        "      weights = torch.rand((n_hidden, sample_sz), dtype=torch.float).cuda()\n",
        "    all_weights = torch.zeros((n_epochs*(X.shape[0]//batch_size)//skip + 1, n_hidden, sample_sz), dtype=torch.float)\n",
        "    a_w_i = 0\n",
        "    for epoch in range(n_epochs):    \n",
        "        eps = learning_rate * (1 - epoch / n_epochs)        \n",
        "        shuffled_epoch_data = X[torch.randperm(X.shape[0]),:]\n",
        "        for i in range(X.shape[0] // batch_size):\n",
        "            mini_batch = shuffled_epoch_data[i*batch_size:(i+1)*batch_size,:].cuda()            \n",
        "            mini_batch = torch.transpose(mini_batch, 0, 1)            \n",
        "            sign = torch.sign(weights)            \n",
        "            W = sign * torch.abs(weights) ** (lebesgue_norm - 1)        \n",
        "            tot_input=torch.mm(W, mini_batch)            \n",
        "            \n",
        "            y = torch.argsort(tot_input, dim=0)            \n",
        "            yl = torch.zeros((n_hidden, batch_size), dtype = torch.float).cuda()\n",
        "            yl[y[n_hidden-1,:], torch.arange(batch_size)] = 1.0\n",
        "            yl[y[n_hidden-rank], torch.arange(batch_size)] =- anti_hebbian_learning_strength            \n",
        "                    \n",
        "            xx = torch.sum(yl * tot_input,1)            \n",
        "            xx = xx.unsqueeze(1)                    \n",
        "            xx = xx.repeat(1, sample_sz)                            \n",
        "            ds = torch.mm(yl, torch.transpose(mini_batch, 0, 1)) - xx * weights            \n",
        "            \n",
        "            nc = torch.max(torch.abs(ds))            \n",
        "            if nc < precision:\n",
        "              nc = precision            \n",
        "            weights += eps*(ds/nc)\n",
        "            if a_w_i % skip == 0:\n",
        "              all_weights[a_w_i//skip] = weights\n",
        "            a_w_i += 1\n",
        "        print(\"Done: \" + str(epoch))\n",
        "    return all_weights\n"
      ],
      "execution_count": null,
      "outputs": []
    },
    {
      "cell_type": "code",
      "metadata": {
        "id": "yyaqkFhh07Bs",
        "colab_type": "code",
        "colab": {}
      },
      "source": [
        "# def animate_unsupervised_weights(all_weights, n_hidden, n_epochs, batch_size, n_rows, n_cols, dimensions, dataset_name, starting_from = 0, cmap=None):\n",
        "#     all_weights = all_weights.cpu().numpy().reshape((-1, n_hidden,)+dimensions)\n",
        "#     if n_rows*n_cols < n_hidden:\n",
        "#       all_weights = \n",
        "#     fig, axs = plt.subplots(nrows=n_rows, ncols=n_cols, figsize=(15, 15))\n",
        "#     plt.axis('off')\n",
        "#     for ax in axs.flatten():\n",
        "#       ax.axis(\"off\")\n",
        "#     def animate(i):\n",
        "#       weights = all_weights[i]\n",
        "#       nc=np.amax(np.absolute(weights))\n",
        "#       plt.suptitle(\"Unsupervised Weights: \"+dataset_name + \"\\n Iteration:\"+str(starting_from + i))\n",
        "#       for row in range(len(axs)):\n",
        "#         for col in range(len(axs[row])):\n",
        "#           if cmap is not None:\n",
        "#             axs[row][col].imshow(weights[row*axs.shape[1]+col],cmap=cmap, vmin=-nc, vmax=nc)\n",
        "#           else:\n",
        "#             axs[row][col].imshow(weights[row*axs.shape[1]+col],cmap=cmap, vmin=-nc, vmax=nc)\n",
        "#       print(str(i) + \" of \" + str(len(all_weights)))\n",
        "#       return fig, axs\n",
        "\n",
        "#     anim = animation.FuncAnimation(fig, animate, frames=all_weights.shape[0])\n",
        "#     anim.save(dataset_name + \"_\" + str(n_hidden) + \"h_\" + str(n_epochs)+\"e_\" + str(batch_size) + \"bs\" +\".mp4\")\n",
        "\n",
        "def animate_unsupervised_weights(all_weights, n_hidden, n_epochs, batch_size, n_rows, n_cols, dimensions, dataset_name, starting_from = 0, cmap=None):\n",
        "    all_weights = all_weights.cpu().numpy().reshape((-1, n_hidden,)+dimensions, order=\"F\")\n",
        "    fig = plt.figure(figsize=(10, 6))\n",
        "    plt.axis('off')\n",
        "    if n_rows*n_cols < n_hidden:\n",
        "      all_weights = all_weights[:, np.random.choice(all_weights.shape[1], n_rows*n_cols, replace=False)]\n",
        "    if len(dimensions) == 3:\n",
        "      HM = np.zeros((n_rows*dimensions[0], n_cols*dimensions[1], dimensions[2]))\n",
        "    else:\n",
        "      HM  = np.zeros((n_rows*dimensions[0], n_cols*dimensions[1]))\n",
        "    def animate(i):\n",
        "      weights = all_weights[i]\n",
        "      nc=np.amax(np.absolute(weights))\n",
        "      for idx in range(n_cols * n_rows):\n",
        "        x, y = idx % n_cols, idx // n_cols\n",
        "        ma = weights[idx].max()\n",
        "        mi = weights[idx].min()\n",
        "        if len(dimensions) > 2:\n",
        "          HM[y*dimensions[0]:(y+1)*dimensions[0],x*dimensions[1]:(x+1)*dimensions[1]]= (weights[idx] - mi)/(ma - mi)\n",
        "        else:\n",
        "          HM[y*dimensions[0]:(y+1)*dimensions[0],x*dimensions[1]:(x+1)*dimensions[1]]= weights[idx]\n",
        "      plt.clf()\n",
        "      nc=np.amax(np.absolute(HM))\n",
        "      if cmap is not None:\n",
        "        im=plt.imshow(HM, cmap=cmap, vmin=-nc, vmax=nc)\n",
        "        fig.colorbar(im,ticks=[np.amin(HM), 0, np.amax(HM)])\n",
        "      else:\n",
        "        im = plt.imshow(HM)\n",
        "      fig.canvas.draw()\n",
        "      plt.title(\"Unsupervised Weights: \"+dataset_name + \"\\n Hidden Units: \"+str(n_hidden) + \" (\"+str(n_rows*n_cols)+\" shown)\"+\"\\n Iteration:\"+str(starting_from + i))\n",
        "      print(\"Done: \" + str(i) + \" of \" + str(len(all_weights)))      \n",
        "      return fig\n",
        "\n",
        "    anim = animation.FuncAnimation(fig, animate, frames=all_weights.shape[0])\n",
        "    anim.save(dataset_name + \"_\" + str(n_hidden) + \"h_\" + str(n_epochs)+\"e_\" + str(batch_size) + \"bs\" +\".mp4\")"
      ],
      "execution_count": null,
      "outputs": []
    },
    {
      "cell_type": "code",
      "metadata": {
        "id": "eQoEj-mT2KiG",
        "colab_type": "code",
        "colab": {}
      },
      "source": [
        "def train_and_animate(train_data, n_epochs, n_hidden, batch_size, n_rows, n_cols, dimensions, dataset_name, prev_weights = None, starting_from = 0, skip=1, cmap=None):\n",
        "  all_weights = get_unsupervised_weights(train_data, n_hidden=n_hidden, n_epochs=n_epochs, batch_size=batch_size, prev_weights = prev_weights, skip=skip)\n",
        "  try:\n",
        "    if cmap is not None:\n",
        "      animate_unsupervised_weights(all_weights, n_hidden, n_epochs, batch_size, n_rows, n_cols, dimensions, dataset_name, starting_from, cmap=cmap)\n",
        "    else:\n",
        "      animate_unsupervised_weights(all_weights, n_hidden, n_epochs, batch_size, n_rows, n_cols, dimensions, dataset_name, starting_from)\n",
        "  except:\n",
        "    return all_weights, -1\n",
        "  return all_weights, starting_from+len(all_weights)"
      ],
      "execution_count": null,
      "outputs": []
    },
    {
      "cell_type": "code",
      "metadata": {
        "id": "du4SFoigX8Db",
        "colab_type": "code",
        "colab": {}
      },
      "source": [
        "cifar10_weights, iteration = train_and_animate(cifar10_train_x, 50, 100, 100, 10, 10, (32, 32, 3), \"CIFAR10\", skip=50)"
      ],
      "execution_count": null,
      "outputs": []
    },
    {
      "cell_type": "code",
      "metadata": {
        "id": "P92QJf96wpY9",
        "colab_type": "code",
        "colab": {}
      },
      "source": [
        "mnist_weights, iteration = train_and_animate(mnist_train_x, 2, 100, 100, 10, 10, (28, 28), \"MNIST\", skip=10, cmap=\"bwr\")"
      ],
      "execution_count": null,
      "outputs": []
    },
    {
      "cell_type": "code",
      "metadata": {
        "id": "YQysgdKPyMPc",
        "colab_type": "code",
        "colab": {}
      },
      "source": [
        "cifar10_weights_lg, iteration = train_and_animate(cifar10_train_x, 30, 1600, 100, 10, 10, (32, 32, 3), \"CIFAR10\", skip=50)"
      ],
      "execution_count": null,
      "outputs": []
    },
    {
      "cell_type": "code",
      "metadata": {
        "id": "JkaqxskazGh8",
        "colab_type": "code",
        "colab": {}
      },
      "source": [
        ""
      ],
      "execution_count": null,
      "outputs": []
    },
    {
      "cell_type": "code",
      "metadata": {
        "id": "vXvtw3GH0EuI",
        "colab_type": "code",
        "colab": {
          "base_uri": "https://localhost:8080/",
          "height": 283
        },
        "outputId": "396c991f-c510-4037-c2c0-6829fdb3a075"
      },
      "source": [
        ""
      ],
      "execution_count": null,
      "outputs": [
        {
          "output_type": "execute_result",
          "data": {
            "text/plain": [
              "<matplotlib.image.AxesImage at 0x7f097081cbe0>"
            ]
          },
          "metadata": {
            "tags": []
          },
          "execution_count": 152
        },
        {
          "output_type": "display_data",
          "data": {
            "image/png": "[encoded data removed]",
            "text/plain": [
              "<Figure size 432x288 with 1 Axes>"
            ]
          },
          "metadata": {
            "tags": [],
            "needs_background": "light"
          }
        }
      ]
    },
    {
      "cell_type": "code",
      "metadata": {
        "id": "SXZWFRZX0-LW",
        "colab_type": "code",
        "colab": {}
      },
      "source": [
        "animate_unsupervised_weights(cifar10_weights, 100, 50, 101, 10, 10, (32, 32, 3), \"test_adsfasdf2\")"
      ],
      "execution_count": null,
      "outputs": []
    },
    {
      "cell_type": "code",
      "metadata": {
        "id": "LLLSLFk61WFn",
        "colab_type": "code",
        "colab": {}
      },
      "source": [
        "mnist_weights_2, iteration = train_and_animate(mnist_train_x, 2, 1600, 100, 10, 10, (28, 28), \"MNIST_TOO_MANY_HIDDEN\", skip=10, cmap=\"bwr\")"
      ],
      "execution_count": null,
      "outputs": []
    },
    {
      "cell_type": "code",
      "metadata": {
        "id": "58BYv2Fo1upi",
        "colab_type": "code",
        "colab": {}
      },
      "source": [
        "cifar10_weights_2, iteration = train_and_animate(cifar10_train_x, 29, 64, 100, 8, 8, (32, 32, 3), \"CIFAR10\", skip=50)"
      ],
      "execution_count": null,
      "outputs": []
    },
    {
      "cell_type": "code",
      "metadata": {
        "id": "7OgOEF1T2TzI",
        "colab_type": "code",
        "colab": {}
      },
      "source": [
        "cifar10_weights_3, iteration = train_and_animate(cifar10_train_x, 10, 100, 4, 10, 10, (32, 32, 3), \"CIFAR10\", skip=50*25)"
      ],
      "execution_count": null,
      "outputs": []
    },
    {
      "cell_type": "code",
      "metadata": {
        "id": "LrCm0Ujg3Aqy",
        "colab_type": "code",
        "colab": {}
      },
      "source": [
        "cifar10_weights_3, iteration = train_and_animate(cifar10_train_x, 10, 400, 4, 10, 10, (32, 32, 3), \"CIFAR10-lots_of-hidden-batch-small-hidden\", skip=50*5)"
      ],
      "execution_count": null,
      "outputs": []
    },
    {
      "cell_type": "code",
      "metadata": {
        "id": "oRm_vbc6BIuJ",
        "colab_type": "code",
        "colab": {}
      },
      "source": [
        "final_weights_cifar_10 = cifar10_weights_3[-2]"
      ],
      "execution_count": null,
      "outputs": []
    },
    {
      "cell_type": "code",
      "metadata": {
        "id": "OPYYkjoVBRa0",
        "colab_type": "code",
        "colab": {}
      },
      "source": [
        "augmented_train_cifar_10_400h = torch.mm(cifar10_train_x, final_weights_cifar_10.t())\n",
        "augmented_test_cifar_10_400h = torch.mm(cifar10_test_x, final_weights_cifar_10.t())"
      ],
      "execution_count": null,
      "outputs": []
    },
    {
      "cell_type": "code",
      "metadata": {
        "id": "fFievi2MB7bh",
        "colab_type": "code",
        "colab": {
          "base_uri": "https://localhost:8080/",
          "height": 34
        },
        "outputId": "29fac419-341f-4c98-f4a1-e261b379dc19"
      },
      "source": [
        "import keras\n",
        "import keras.backend as K"
      ],
      "execution_count": null,
      "outputs": [
        {
          "output_type": "stream",
          "text": [
            "Using TensorFlow backend.\n"
          ],
          "name": "stderr"
        }
      ]
    },
    {
      "cell_type": "code",
      "metadata": {
        "id": "bhXcOtJXFweZ",
        "colab_type": "code",
        "colab": {}
      },
      "source": [
        "#testing good cifar10 bio model vs standard\n",
        "standard_cifar10_model = keras.Sequential([\n",
        "    keras.layers.Dense(400, input_shape=(3072,)),                   \n",
        "    keras.layers.Dense(10, activation=\"softmax\")\n",
        "])\n",
        "standard_cifar10_model.compile(optimizer=\"adam\", loss=\"sparse_categorical_crossentropy\", metrics=[\"sparse_categorical_accuracy\"])\n",
        "history_standard_cifar10 = standard_cifar10_model.fit(cifar10_train_x, cifar10_train_y, batch_size=256, epochs=20, validation_data=(cifar10_test_x, cifar10_test_y))"
      ],
      "execution_count": null,
      "outputs": []
    },
    {
      "cell_type": "code",
      "metadata": {
        "id": "WTIDHw_GHSQp",
        "colab_type": "code",
        "colab": {}
      },
      "source": [
        "bio_cifar10_model = keras.Sequential([                   \n",
        "    keras.layers.Dense(10, input_shape=(400, ), activation=\"softmax\")\n",
        "])\n",
        "bio_cifar10_model.compile(optimizer=\"adam\", loss=\"sparse_categorical_crossentropy\", metrics=[\"sparse_categorical_accuracy\"])\n",
        "history_bio_cifar10 = bio_cifar10_model.fit(augmented_train_cifar_10_400h, cifar10_train_y, batch_size=256, epochs=20, validation_data=(augmented_test_cifar_10_400h, cifar10_test_y))"
      ],
      "execution_count": null,
      "outputs": []
    },
    {
      "cell_type": "code",
      "metadata": {
        "id": "COCtM3Y9PurO",
        "colab_type": "code",
        "colab": {}
      },
      "source": [
        "def compare_models(history_standard, history_bio):\n",
        "  fig = plt.figure(figsize=(8, 8))\n",
        "  for metric in [\"sparse_categorical_accuracy\", \"val_sparse_categorical_accuracy\"]:\n",
        "    plt.plot(history_standard.history[metric], label=\"ANN_\"+metric)\n",
        "    plt.plot(history_bio.history[metric], label=\"BIO_\"+metric)\n",
        "  plt.legend()\n",
        "  plt.show()"
      ],
      "execution_count": null,
      "outputs": []
    },
    {
      "cell_type": "code",
      "metadata": {
        "id": "p5Gt3woOSahD",
        "colab_type": "code",
        "colab": {}
      },
      "source": [
        "compare_models(history_standard_cifar10, history_bio_cifar10)"
      ],
      "execution_count": null,
      "outputs": []
    },
    {
      "cell_type": "code",
      "metadata": {
        "id": "3aNCvX6KLJyE",
        "colab_type": "code",
        "colab": {}
      },
      "source": [
        "mnist_weights, iteration = train_and_animate(mnist_train_x, 2, 400, 100, 10, 10, (28, 28), \"MNIST\", skip=10, cmap=\"bwr\")"
      ],
      "execution_count": null,
      "outputs": []
    },
    {
      "cell_type": "code",
      "metadata": {
        "id": "fLkr6a9pPtbn",
        "colab_type": "code",
        "colab": {}
      },
      "source": [
        "final_weights_mnist = mnist_weights[-2]"
      ],
      "execution_count": null,
      "outputs": []
    },
    {
      "cell_type": "code",
      "metadata": {
        "id": "ekzjIysZS_lW",
        "colab_type": "code",
        "colab": {}
      },
      "source": [
        "augmented_train_mnist = torch.mm(mnist_train_x, final_weights_mnist.t())\n",
        "augmented_test_mnist = torch.mm(mnist_test_x, final_weights_mnist.t())"
      ],
      "execution_count": null,
      "outputs": []
    },
    {
      "cell_type": "code",
      "metadata": {
        "id": "0TnUJd4ZTB3L",
        "colab_type": "code",
        "colab": {
          "base_uri": "https://localhost:8080/",
          "height": 734
        },
        "outputId": "1d1d2372-bb2d-4500-8991-a04a965da476"
      },
      "source": [
        "#testing good cifar10 bio model vs standard\n",
        "standard_mnist_model = keras.Sequential([\n",
        "    keras.layers.Dense(400, input_shape=(28*28,)),                   \n",
        "    keras.layers.Dense(10, activation=\"softmax\")\n",
        "])\n",
        "standard_mnist_model.compile(optimizer=\"adam\", loss=\"sparse_categorical_crossentropy\", metrics=[\"sparse_categorical_accuracy\"])\n",
        "history_standard_mnist = standard_mnist_model.fit(mnist_train_x, mnist_train_y, batch_size=256, epochs=20, validation_data=(mnist_test_x, mnist_test_y))"
      ],
      "execution_count": null,
      "outputs": [
        {
          "output_type": "stream",
          "text": [
            "Train on 60000 samples, validate on 10000 samples\n",
            "Epoch 1/20\n",
            "60000/60000 [==============================] - 1s 17us/step - loss: 0.4562 - sparse_categorical_accuracy: 0.8724 - val_loss: 0.2999 - val_sparse_categorical_accuracy: 0.9133\n",
            "Epoch 2/20\n",
            "60000/60000 [==============================] - 1s 15us/step - loss: 0.2943 - sparse_categorical_accuracy: 0.9172 - val_loss: 0.2779 - val_sparse_categorical_accuracy: 0.9223\n",
            "Epoch 3/20\n",
            "60000/60000 [==============================] - 1s 17us/step - loss: 0.2783 - sparse_categorical_accuracy: 0.9222 - val_loss: 0.2818 - val_sparse_categorical_accuracy: 0.9192\n",
            "Epoch 4/20\n",
            "60000/60000 [==============================] - 1s 17us/step - loss: 0.2708 - sparse_categorical_accuracy: 0.9241 - val_loss: 0.2717 - val_sparse_categorical_accuracy: 0.9262\n",
            "Epoch 5/20\n",
            "60000/60000 [==============================] - 1s 17us/step - loss: 0.2651 - sparse_categorical_accuracy: 0.9271 - val_loss: 0.2724 - val_sparse_categorical_accuracy: 0.9252\n",
            "Epoch 6/20\n",
            "60000/60000 [==============================] - 1s 17us/step - loss: 0.2620 - sparse_categorical_accuracy: 0.9269 - val_loss: 0.2670 - val_sparse_categorical_accuracy: 0.9280\n",
            "Epoch 7/20\n",
            "60000/60000 [==============================] - 1s 17us/step - loss: 0.2573 - sparse_categorical_accuracy: 0.9289 - val_loss: 0.2702 - val_sparse_categorical_accuracy: 0.9289\n",
            "Epoch 8/20\n",
            "60000/60000 [==============================] - 1s 15us/step - loss: 0.2546 - sparse_categorical_accuracy: 0.9294 - val_loss: 0.2700 - val_sparse_categorical_accuracy: 0.9253\n",
            "Epoch 9/20\n",
            "60000/60000 [==============================] - 1s 15us/step - loss: 0.2530 - sparse_categorical_accuracy: 0.9301 - val_loss: 0.2742 - val_sparse_categorical_accuracy: 0.9233\n",
            "Epoch 10/20\n",
            "60000/60000 [==============================] - 1s 15us/step - loss: 0.2514 - sparse_categorical_accuracy: 0.9303 - val_loss: 0.2736 - val_sparse_categorical_accuracy: 0.9253\n",
            "Epoch 11/20\n",
            "60000/60000 [==============================] - 1s 15us/step - loss: 0.2506 - sparse_categorical_accuracy: 0.9306 - val_loss: 0.2765 - val_sparse_categorical_accuracy: 0.9247\n",
            "Epoch 12/20\n",
            "60000/60000 [==============================] - 1s 15us/step - loss: 0.2487 - sparse_categorical_accuracy: 0.9309 - val_loss: 0.2774 - val_sparse_categorical_accuracy: 0.9220\n",
            "Epoch 13/20\n",
            "60000/60000 [==============================] - 1s 15us/step - loss: 0.2477 - sparse_categorical_accuracy: 0.9310 - val_loss: 0.2740 - val_sparse_categorical_accuracy: 0.9231\n",
            "Epoch 14/20\n",
            "60000/60000 [==============================] - 1s 15us/step - loss: 0.2468 - sparse_categorical_accuracy: 0.9312 - val_loss: 0.2743 - val_sparse_categorical_accuracy: 0.9257\n",
            "Epoch 15/20\n",
            "60000/60000 [==============================] - 1s 15us/step - loss: 0.2463 - sparse_categorical_accuracy: 0.9320 - val_loss: 0.2706 - val_sparse_categorical_accuracy: 0.9261\n",
            "Epoch 16/20\n",
            "60000/60000 [==============================] - 1s 15us/step - loss: 0.2450 - sparse_categorical_accuracy: 0.9317 - val_loss: 0.2726 - val_sparse_categorical_accuracy: 0.9260\n",
            "Epoch 17/20\n",
            "60000/60000 [==============================] - 1s 15us/step - loss: 0.2452 - sparse_categorical_accuracy: 0.9310 - val_loss: 0.2778 - val_sparse_categorical_accuracy: 0.9246\n",
            "Epoch 18/20\n",
            "60000/60000 [==============================] - 1s 15us/step - loss: 0.2434 - sparse_categorical_accuracy: 0.9325 - val_loss: 0.2763 - val_sparse_categorical_accuracy: 0.9267\n",
            "Epoch 19/20\n",
            "60000/60000 [==============================] - 1s 15us/step - loss: 0.2436 - sparse_categorical_accuracy: 0.9325 - val_loss: 0.2753 - val_sparse_categorical_accuracy: 0.9253\n",
            "Epoch 20/20\n",
            "60000/60000 [==============================] - 1s 15us/step - loss: 0.2424 - sparse_categorical_accuracy: 0.9320 - val_loss: 0.2792 - val_sparse_categorical_accuracy: 0.9235\n"
          ],
          "name": "stdout"
        }
      ]
    },
    {
      "cell_type": "code",
      "metadata": {
        "id": "Kc6laBa2TfTW",
        "colab_type": "code",
        "colab": {
          "base_uri": "https://localhost:8080/",
          "height": 734
        },
        "outputId": "bf9060e6-b917-4293-89f9-198afc4067d4"
      },
      "source": [
        "bio_mnist_model = keras.Sequential([                   \n",
        "    keras.layers.Dense(10, input_shape=(100, ), activation=\"softmax\")\n",
        "])\n",
        "bio_mnist_model.compile(optimizer=\"adam\", loss=\"sparse_categorical_crossentropy\", metrics=[\"sparse_categorical_accuracy\"])\n",
        "history_bio_mnist = bio_mnist_model.fit(augmented_train_mnist, mnist_train_y, batch_size=256, epochs=20, validation_data=(augmented_test_mnist, mnist_test_y))"
      ],
      "execution_count": null,
      "outputs": [
        {
          "output_type": "stream",
          "text": [
            "Train on 60000 samples, validate on 10000 samples\n",
            "Epoch 1/20\n",
            "60000/60000 [==============================] - 1s 12us/step - loss: 1.9897 - sparse_categorical_accuracy: 0.4013 - val_loss: 1.1150 - val_sparse_categorical_accuracy: 0.6482\n",
            "Epoch 2/20\n",
            "60000/60000 [==============================] - 1s 11us/step - loss: 0.9569 - sparse_categorical_accuracy: 0.7014 - val_loss: 0.7952 - val_sparse_categorical_accuracy: 0.7634\n",
            "Epoch 3/20\n",
            "60000/60000 [==============================] - 1s 11us/step - loss: 0.7549 - sparse_categorical_accuracy: 0.7768 - val_loss: 0.6731 - val_sparse_categorical_accuracy: 0.8038\n",
            "Epoch 4/20\n",
            "60000/60000 [==============================] - 1s 11us/step - loss: 0.6628 - sparse_categorical_accuracy: 0.8083 - val_loss: 0.5995 - val_sparse_categorical_accuracy: 0.8301\n",
            "Epoch 5/20\n",
            "60000/60000 [==============================] - 1s 11us/step - loss: 0.6068 - sparse_categorical_accuracy: 0.8252 - val_loss: 0.5559 - val_sparse_categorical_accuracy: 0.8422\n",
            "Epoch 6/20\n",
            "60000/60000 [==============================] - 1s 11us/step - loss: 0.5685 - sparse_categorical_accuracy: 0.8364 - val_loss: 0.5264 - val_sparse_categorical_accuracy: 0.8468\n",
            "Epoch 7/20\n",
            "60000/60000 [==============================] - 1s 11us/step - loss: 0.5408 - sparse_categorical_accuracy: 0.8439 - val_loss: 0.5034 - val_sparse_categorical_accuracy: 0.8544\n",
            "Epoch 8/20\n",
            "60000/60000 [==============================] - 1s 11us/step - loss: 0.5198 - sparse_categorical_accuracy: 0.8483 - val_loss: 0.4872 - val_sparse_categorical_accuracy: 0.8603\n",
            "Epoch 9/20\n",
            "60000/60000 [==============================] - 1s 11us/step - loss: 0.5036 - sparse_categorical_accuracy: 0.8524 - val_loss: 0.4747 - val_sparse_categorical_accuracy: 0.8659\n",
            "Epoch 10/20\n",
            "60000/60000 [==============================] - 1s 11us/step - loss: 0.4905 - sparse_categorical_accuracy: 0.8564 - val_loss: 0.4668 - val_sparse_categorical_accuracy: 0.8644\n",
            "Epoch 11/20\n",
            "60000/60000 [==============================] - 1s 11us/step - loss: 0.4789 - sparse_categorical_accuracy: 0.8595 - val_loss: 0.4500 - val_sparse_categorical_accuracy: 0.8705\n",
            "Epoch 12/20\n",
            "60000/60000 [==============================] - 1s 12us/step - loss: 0.4685 - sparse_categorical_accuracy: 0.8629 - val_loss: 0.4447 - val_sparse_categorical_accuracy: 0.8697\n",
            "Epoch 13/20\n",
            "60000/60000 [==============================] - 1s 11us/step - loss: 0.4593 - sparse_categorical_accuracy: 0.8657 - val_loss: 0.4352 - val_sparse_categorical_accuracy: 0.8748\n",
            "Epoch 14/20\n",
            "60000/60000 [==============================] - 1s 12us/step - loss: 0.4526 - sparse_categorical_accuracy: 0.8669 - val_loss: 0.4293 - val_sparse_categorical_accuracy: 0.8771\n",
            "Epoch 15/20\n",
            "60000/60000 [==============================] - 1s 12us/step - loss: 0.4455 - sparse_categorical_accuracy: 0.8692 - val_loss: 0.4212 - val_sparse_categorical_accuracy: 0.8778\n",
            "Epoch 16/20\n",
            "60000/60000 [==============================] - 1s 11us/step - loss: 0.4409 - sparse_categorical_accuracy: 0.8705 - val_loss: 0.4203 - val_sparse_categorical_accuracy: 0.8804\n",
            "Epoch 17/20\n",
            "60000/60000 [==============================] - 1s 11us/step - loss: 0.4356 - sparse_categorical_accuracy: 0.8721 - val_loss: 0.4146 - val_sparse_categorical_accuracy: 0.8794\n",
            "Epoch 18/20\n",
            "60000/60000 [==============================] - 1s 11us/step - loss: 0.4317 - sparse_categorical_accuracy: 0.8730 - val_loss: 0.4096 - val_sparse_categorical_accuracy: 0.8817\n",
            "Epoch 19/20\n",
            "60000/60000 [==============================] - 1s 11us/step - loss: 0.4256 - sparse_categorical_accuracy: 0.8749 - val_loss: 0.4014 - val_sparse_categorical_accuracy: 0.8854\n",
            "Epoch 20/20\n",
            "60000/60000 [==============================] - 1s 11us/step - loss: 0.4227 - sparse_categorical_accuracy: 0.8758 - val_loss: 0.3966 - val_sparse_categorical_accuracy: 0.8861\n"
          ],
          "name": "stdout"
        }
      ]
    },
    {
      "cell_type": "code",
      "metadata": {
        "id": "TeKsZqzeT5_r",
        "colab_type": "code",
        "colab": {
          "base_uri": "https://localhost:8080/",
          "height": 483
        },
        "outputId": "7bd2feef-10ec-4651-8150-2f09dc175ade"
      },
      "source": [
        "compare_models(history_standard_mnist, history_bio_mnist)"
      ],
      "execution_count": null,
      "outputs": [
        {
          "output_type": "display_data",
          "data": {
            "image/png": "[encoded data removed]",
            "text/plain": [
              "<Figure size 576x576 with 1 Axes>"
            ]
          },
          "metadata": {
            "tags": [],
            "needs_background": "light"
          }
        }
      ]
    },
    {
      "cell_type": "code",
      "metadata": {
        "id": "xc_a6T7iUp4t",
        "colab_type": "code",
        "colab": {
          "base_uri": "https://localhost:8080/",
          "height": 1000
        },
        "outputId": "f364844b-d704-469a-fa57-1cc7181b4013"
      },
      "source": [
        "fashion_mnist_weights, iteration = train_and_animate(fashion_mnist_train_x, 5, 400, 50, 10, 10, (28, 28), \"FASHION_MNIST\", skip=50, cmap=\"bwr\")"
      ],
      "execution_count": null,
      "outputs": [
        {
          "output_type": "stream",
          "text": [
            "Done: 0\n",
            "Done: 1\n",
            "Done: 2\n",
            "Done: 3\n",
            "Done: 4\n",
            "Done: 0 of 121\n",
            "Done: 0 of 121\n",
            "Done: 1 of 121\n",
            "Done: 2 of 121\n",
            "Done: 3 of 121\n",
            "Done: 4 of 121\n",
            "Done: 5 of 121\n",
            "Done: 6 of 121\n",
            "Done: 7 of 121\n",
            "Done: 8 of 121\n",
            "Done: 9 of 121\n",
            "Done: 10 of 121\n",
            "Done: 11 of 121\n",
            "Done: 12 of 121\n",
            "Done: 13 of 121\n",
            "Done: 14 of 121\n",
            "Done: 15 of 121\n",
            "Done: 16 of 121\n",
            "Done: 17 of 121\n",
            "Done: 18 of 121\n",
            "Done: 19 of 121\n",
            "Done: 20 of 121\n",
            "Done: 21 of 121\n",
            "Done: 22 of 121\n",
            "Done: 23 of 121\n",
            "Done: 24 of 121\n",
            "Done: 25 of 121\n",
            "Done: 26 of 121\n",
            "Done: 27 of 121\n",
            "Done: 28 of 121\n",
            "Done: 29 of 121\n",
            "Done: 30 of 121\n",
            "Done: 31 of 121\n",
            "Done: 32 of 121\n",
            "Done: 33 of 121\n",
            "Done: 34 of 121\n",
            "Done: 35 of 121\n",
            "Done: 36 of 121\n",
            "Done: 37 of 121\n",
            "Done: 38 of 121\n",
            "Done: 39 of 121\n",
            "Done: 40 of 121\n",
            "Done: 41 of 121\n",
            "Done: 42 of 121\n",
            "Done: 43 of 121\n",
            "Done: 44 of 121\n",
            "Done: 45 of 121\n",
            "Done: 46 of 121\n",
            "Done: 47 of 121\n",
            "Done: 48 of 121\n",
            "Done: 49 of 121\n",
            "Done: 50 of 121\n",
            "Done: 51 of 121\n",
            "Done: 52 of 121\n",
            "Done: 53 of 121\n",
            "Done: 54 of 121\n",
            "Done: 55 of 121\n",
            "Done: 56 of 121\n",
            "Done: 57 of 121\n",
            "Done: 58 of 121\n",
            "Done: 59 of 121\n",
            "Done: 60 of 121\n",
            "Done: 61 of 121\n",
            "Done: 62 of 121\n",
            "Done: 63 of 121\n",
            "Done: 64 of 121\n",
            "Done: 65 of 121\n",
            "Done: 66 of 121\n",
            "Done: 67 of 121\n",
            "Done: 68 of 121\n",
            "Done: 69 of 121\n",
            "Done: 70 of 121\n",
            "Done: 71 of 121\n",
            "Done: 72 of 121\n",
            "Done: 73 of 121\n",
            "Done: 74 of 121\n",
            "Done: 75 of 121\n",
            "Done: 76 of 121\n",
            "Done: 77 of 121\n",
            "Done: 78 of 121\n",
            "Done: 79 of 121\n",
            "Done: 80 of 121\n",
            "Done: 81 of 121\n",
            "Done: 82 of 121\n",
            "Done: 83 of 121\n",
            "Done: 84 of 121\n",
            "Done: 85 of 121\n",
            "Done: 86 of 121\n",
            "Done: 87 of 121\n",
            "Done: 88 of 121\n",
            "Done: 89 of 121\n",
            "Done: 90 of 121\n",
            "Done: 91 of 121\n",
            "Done: 92 of 121\n",
            "Done: 93 of 121\n",
            "Done: 94 of 121\n",
            "Done: 95 of 121\n",
            "Done: 96 of 121\n",
            "Done: 97 of 121\n",
            "Done: 98 of 121\n",
            "Done: 99 of 121\n",
            "Done: 100 of 121\n",
            "Done: 101 of 121\n",
            "Done: 102 of 121\n",
            "Done: 103 of 121\n",
            "Done: 104 of 121\n",
            "Done: 105 of 121\n",
            "Done: 106 of 121\n",
            "Done: 107 of 121\n",
            "Done: 108 of 121\n",
            "Done: 109 of 121\n",
            "Done: 110 of 121\n",
            "Done: 111 of 121\n",
            "Done: 112 of 121\n",
            "Done: 113 of 121\n",
            "Done: 114 of 121\n",
            "Done: 115 of 121\n",
            "Done: 116 of 121\n",
            "Done: 117 of 121\n",
            "Done: 118 of 121\n",
            "Done: 119 of 121\n",
            "Done: 120 of 121\n"
          ],
          "name": "stdout"
        },
        {
          "output_type": "display_data",
          "data": {
            "image/png": "[encoded data removed]",
            "text/plain": [
              "<Figure size 720x432 with 2 Axes>"
            ]
          },
          "metadata": {
            "tags": [],
            "needs_background": "light"
          }
        }
      ]
    },
    {
      "cell_type": "code",
      "metadata": {
        "id": "kOhfkdf3Vaie",
        "colab_type": "code",
        "colab": {}
      },
      "source": [
        "final_weights_fashion_mnist = fashion_mnist_weights[-2]\n",
        "augmented_train_fashion_mnist_x = torch.mm(fashion_mnist_train_x, final_weights_fashion_mnist.t())\n",
        "augmented_test_fashion_mnist_x = torch.mm(fashion_mnist_test_x, final_weights_fashion_mnist.t())"
      ],
      "execution_count": null,
      "outputs": []
    },
    {
      "cell_type": "code",
      "metadata": {
        "id": "2RnWr0miWyE0",
        "colab_type": "code",
        "colab": {
          "base_uri": "https://localhost:8080/",
          "height": 734
        },
        "outputId": "38f68526-9dfb-43de-f09e-8cf8f344ca49"
      },
      "source": [
        "#testing good cifar10 bio model vs standard\n",
        "standard_fashion_mnist_model = keras.Sequential([\n",
        "    keras.layers.Dense(400, input_shape=(28*28,)),                   \n",
        "    keras.layers.Dense(10, activation=\"softmax\")\n",
        "])\n",
        "standard_fashion_mnist_model.compile(optimizer=\"adam\", loss=\"sparse_categorical_crossentropy\", metrics=[\"sparse_categorical_accuracy\"])\n",
        "history_standard_fashion_mnist = standard_fashion_mnist_model.fit(fashion_mnist_train_x, fashion_mnist_train_y, batch_size=256, epochs=20, validation_data=(fashion_mnist_test_x, fashion_mnist_test_y))"
      ],
      "execution_count": null,
      "outputs": [
        {
          "output_type": "stream",
          "text": [
            "Train on 60000 samples, validate on 10000 samples\n",
            "Epoch 1/20\n",
            "60000/60000 [==============================] - 1s 18us/step - loss: 0.5953 - sparse_categorical_accuracy: 0.7930 - val_loss: 0.5077 - val_sparse_categorical_accuracy: 0.8257\n",
            "Epoch 2/20\n",
            "60000/60000 [==============================] - 1s 17us/step - loss: 0.4650 - sparse_categorical_accuracy: 0.8397 - val_loss: 0.4863 - val_sparse_categorical_accuracy: 0.8309\n",
            "Epoch 3/20\n",
            "60000/60000 [==============================] - 1s 17us/step - loss: 0.4329 - sparse_categorical_accuracy: 0.8500 - val_loss: 0.4680 - val_sparse_categorical_accuracy: 0.8356\n",
            "Epoch 4/20\n",
            "60000/60000 [==============================] - 1s 17us/step - loss: 0.4251 - sparse_categorical_accuracy: 0.8522 - val_loss: 0.4705 - val_sparse_categorical_accuracy: 0.8372\n",
            "Epoch 5/20\n",
            "60000/60000 [==============================] - 1s 17us/step - loss: 0.4157 - sparse_categorical_accuracy: 0.8542 - val_loss: 0.4549 - val_sparse_categorical_accuracy: 0.8420\n",
            "Epoch 6/20\n",
            "60000/60000 [==============================] - 1s 17us/step - loss: 0.4115 - sparse_categorical_accuracy: 0.8565 - val_loss: 0.4616 - val_sparse_categorical_accuracy: 0.8408\n",
            "Epoch 7/20\n",
            "60000/60000 [==============================] - 1s 17us/step - loss: 0.4080 - sparse_categorical_accuracy: 0.8584 - val_loss: 0.4507 - val_sparse_categorical_accuracy: 0.8425\n",
            "Epoch 8/20\n",
            "60000/60000 [==============================] - 1s 17us/step - loss: 0.4043 - sparse_categorical_accuracy: 0.8568 - val_loss: 0.4527 - val_sparse_categorical_accuracy: 0.8413\n",
            "Epoch 9/20\n",
            "60000/60000 [==============================] - 1s 17us/step - loss: 0.3998 - sparse_categorical_accuracy: 0.8597 - val_loss: 0.4745 - val_sparse_categorical_accuracy: 0.8314\n",
            "Epoch 10/20\n",
            "60000/60000 [==============================] - 1s 17us/step - loss: 0.4004 - sparse_categorical_accuracy: 0.8581 - val_loss: 0.4610 - val_sparse_categorical_accuracy: 0.8396\n",
            "Epoch 11/20\n",
            "60000/60000 [==============================] - 1s 17us/step - loss: 0.3955 - sparse_categorical_accuracy: 0.8601 - val_loss: 0.4580 - val_sparse_categorical_accuracy: 0.8424\n",
            "Epoch 12/20\n",
            "60000/60000 [==============================] - 1s 17us/step - loss: 0.3912 - sparse_categorical_accuracy: 0.8627 - val_loss: 0.4862 - val_sparse_categorical_accuracy: 0.8335\n",
            "Epoch 13/20\n",
            "60000/60000 [==============================] - 1s 17us/step - loss: 0.3880 - sparse_categorical_accuracy: 0.8623 - val_loss: 0.4982 - val_sparse_categorical_accuracy: 0.8231\n",
            "Epoch 14/20\n",
            "60000/60000 [==============================] - 1s 17us/step - loss: 0.3881 - sparse_categorical_accuracy: 0.8636 - val_loss: 0.4573 - val_sparse_categorical_accuracy: 0.8442\n",
            "Epoch 15/20\n",
            "60000/60000 [==============================] - 1s 17us/step - loss: 0.3933 - sparse_categorical_accuracy: 0.8608 - val_loss: 0.4726 - val_sparse_categorical_accuracy: 0.8341\n",
            "Epoch 16/20\n",
            "60000/60000 [==============================] - 1s 17us/step - loss: 0.3916 - sparse_categorical_accuracy: 0.8627 - val_loss: 0.4591 - val_sparse_categorical_accuracy: 0.8381\n",
            "Epoch 17/20\n",
            "60000/60000 [==============================] - 1s 17us/step - loss: 0.3876 - sparse_categorical_accuracy: 0.8632 - val_loss: 0.4463 - val_sparse_categorical_accuracy: 0.8430\n",
            "Epoch 18/20\n",
            "60000/60000 [==============================] - 1s 17us/step - loss: 0.3881 - sparse_categorical_accuracy: 0.8634 - val_loss: 0.4409 - val_sparse_categorical_accuracy: 0.8450\n",
            "Epoch 19/20\n",
            "60000/60000 [==============================] - 1s 17us/step - loss: 0.3838 - sparse_categorical_accuracy: 0.8641 - val_loss: 0.4524 - val_sparse_categorical_accuracy: 0.8380\n",
            "Epoch 20/20\n",
            "60000/60000 [==============================] - 1s 17us/step - loss: 0.3829 - sparse_categorical_accuracy: 0.8652 - val_loss: 0.4691 - val_sparse_categorical_accuracy: 0.8375\n"
          ],
          "name": "stdout"
        }
      ]
    },
    {
      "cell_type": "code",
      "metadata": {
        "id": "yDbTNiXYZ1Tl",
        "colab_type": "code",
        "colab": {
          "base_uri": "https://localhost:8080/",
          "height": 734
        },
        "outputId": "4359ba07-200d-44fe-b3b5-b3abf8c863e6"
      },
      "source": [
        "bio_fashion_mnist_model = keras.Sequential([                   \n",
        "    keras.layers.Dense(10, input_shape=(400, ), activation=\"softmax\")\n",
        "])\n",
        "bio_fashion_mnist_model.compile(optimizer=\"adam\", loss=\"sparse_categorical_crossentropy\", metrics=[\"sparse_categorical_accuracy\"])\n",
        "history_bio_fashion_mnist = bio_fashion_mnist_model.fit(augmented_train_fashion_mnist_x, fashion_mnist_train_y, batch_size=256, epochs=20, validation_data=(augmented_test_fashion_mnist_x, fashion_mnist_test_y))"
      ],
      "execution_count": null,
      "outputs": [
        {
          "output_type": "stream",
          "text": [
            "Train on 60000 samples, validate on 10000 samples\n",
            "Epoch 1/20\n",
            "60000/60000 [==============================] - 1s 14us/step - loss: 1.4287 - sparse_categorical_accuracy: 0.5446 - val_loss: 0.9799 - val_sparse_categorical_accuracy: 0.6353\n",
            "Epoch 2/20\n",
            "60000/60000 [==============================] - 1s 13us/step - loss: 0.9181 - sparse_categorical_accuracy: 0.6618 - val_loss: 0.8943 - val_sparse_categorical_accuracy: 0.6574\n",
            "Epoch 3/20\n",
            "60000/60000 [==============================] - 1s 13us/step - loss: 0.8458 - sparse_categorical_accuracy: 0.6867 - val_loss: 0.8441 - val_sparse_categorical_accuracy: 0.6952\n",
            "Epoch 4/20\n",
            "60000/60000 [==============================] - 1s 13us/step - loss: 0.8101 - sparse_categorical_accuracy: 0.7021 - val_loss: 0.8280 - val_sparse_categorical_accuracy: 0.6912\n",
            "Epoch 5/20\n",
            "60000/60000 [==============================] - 1s 13us/step - loss: 0.7878 - sparse_categorical_accuracy: 0.7125 - val_loss: 0.8224 - val_sparse_categorical_accuracy: 0.7097\n",
            "Epoch 6/20\n",
            "60000/60000 [==============================] - 1s 13us/step - loss: 0.7590 - sparse_categorical_accuracy: 0.7242 - val_loss: 0.7720 - val_sparse_categorical_accuracy: 0.7163\n",
            "Epoch 7/20\n",
            "60000/60000 [==============================] - 1s 13us/step - loss: 0.7415 - sparse_categorical_accuracy: 0.7279 - val_loss: 0.7126 - val_sparse_categorical_accuracy: 0.7460\n",
            "Epoch 8/20\n",
            "60000/60000 [==============================] - 1s 13us/step - loss: 0.7310 - sparse_categorical_accuracy: 0.7349 - val_loss: 0.7186 - val_sparse_categorical_accuracy: 0.7464\n",
            "Epoch 9/20\n",
            "60000/60000 [==============================] - 1s 13us/step - loss: 0.7111 - sparse_categorical_accuracy: 0.7423 - val_loss: 0.7237 - val_sparse_categorical_accuracy: 0.7325\n",
            "Epoch 10/20\n",
            "60000/60000 [==============================] - 1s 13us/step - loss: 0.7109 - sparse_categorical_accuracy: 0.7440 - val_loss: 0.7716 - val_sparse_categorical_accuracy: 0.7239\n",
            "Epoch 11/20\n",
            "60000/60000 [==============================] - 1s 13us/step - loss: 0.6955 - sparse_categorical_accuracy: 0.7502 - val_loss: 0.7209 - val_sparse_categorical_accuracy: 0.7237\n",
            "Epoch 12/20\n",
            "60000/60000 [==============================] - 1s 13us/step - loss: 0.7038 - sparse_categorical_accuracy: 0.7462 - val_loss: 0.6820 - val_sparse_categorical_accuracy: 0.7587\n",
            "Epoch 13/20\n",
            "60000/60000 [==============================] - 1s 13us/step - loss: 0.7007 - sparse_categorical_accuracy: 0.7457 - val_loss: 0.6958 - val_sparse_categorical_accuracy: 0.7475\n",
            "Epoch 14/20\n",
            "60000/60000 [==============================] - 1s 13us/step - loss: 0.6812 - sparse_categorical_accuracy: 0.7551 - val_loss: 0.6515 - val_sparse_categorical_accuracy: 0.7681\n",
            "Epoch 15/20\n",
            "60000/60000 [==============================] - 1s 12us/step - loss: 0.6513 - sparse_categorical_accuracy: 0.7675 - val_loss: 0.6783 - val_sparse_categorical_accuracy: 0.7544\n",
            "Epoch 16/20\n",
            "60000/60000 [==============================] - 1s 13us/step - loss: 0.6693 - sparse_categorical_accuracy: 0.7581 - val_loss: 0.6975 - val_sparse_categorical_accuracy: 0.7578\n",
            "Epoch 17/20\n",
            "60000/60000 [==============================] - 1s 13us/step - loss: 0.6695 - sparse_categorical_accuracy: 0.7592 - val_loss: 0.6498 - val_sparse_categorical_accuracy: 0.7616\n",
            "Epoch 18/20\n",
            "60000/60000 [==============================] - 1s 13us/step - loss: 0.6503 - sparse_categorical_accuracy: 0.7668 - val_loss: 0.7061 - val_sparse_categorical_accuracy: 0.7451\n",
            "Epoch 19/20\n",
            "60000/60000 [==============================] - 1s 13us/step - loss: 0.6401 - sparse_categorical_accuracy: 0.7706 - val_loss: 0.6501 - val_sparse_categorical_accuracy: 0.7578\n",
            "Epoch 20/20\n",
            "60000/60000 [==============================] - 1s 13us/step - loss: 0.6452 - sparse_categorical_accuracy: 0.7678 - val_loss: 0.6793 - val_sparse_categorical_accuracy: 0.7416\n"
          ],
          "name": "stdout"
        }
      ]
    },
    {
      "cell_type": "code",
      "metadata": {
        "id": "7tFQ1-ZXaGKx",
        "colab_type": "code",
        "colab": {
          "base_uri": "https://localhost:8080/",
          "height": 483
        },
        "outputId": "ea88fb7e-734f-4a75-cb2a-7391ca065569"
      },
      "source": [
        "compare_models(history_standard_fashion_mnist, history_bio_fashion_mnist)"
      ],
      "execution_count": null,
      "outputs": [
        {
          "output_type": "display_data",
          "data": {
            "image/png": "[encoded data removed]",
            "text/plain": [
              "<Figure size 576x576 with 1 Axes>"
            ]
          },
          "metadata": {
            "tags": [],
            "needs_background": "light"
          }
        }
      ]
    },
    {
      "cell_type": "code",
      "metadata": {
        "id": "gQdtTsoQaNgv",
        "colab_type": "code",
        "colab": {
          "base_uri": "https://localhost:8080/",
          "height": 1000
        },
        "outputId": "9741d33d-1775-4d83-ec6e-a52e66f54b51"
      },
      "source": [
        "mnist_weights_small, iteration = train_and_animate(mnist_train_x, 2, 9, 10, 3, 3, (28, 28), \"MNIST\", skip=100, cmap=\"bwr\")"
      ],
      "execution_count": null,
      "outputs": [
        {
          "output_type": "stream",
          "text": [
            "Done: 0\n",
            "Done: 1\n",
            "Done: 0 of 121\n",
            "Done: 0 of 121\n",
            "Done: 1 of 121\n",
            "Done: 2 of 121\n",
            "Done: 3 of 121\n",
            "Done: 4 of 121\n",
            "Done: 5 of 121\n",
            "Done: 6 of 121\n",
            "Done: 7 of 121\n",
            "Done: 8 of 121\n",
            "Done: 9 of 121\n",
            "Done: 10 of 121\n",
            "Done: 11 of 121\n",
            "Done: 12 of 121\n",
            "Done: 13 of 121\n",
            "Done: 14 of 121\n",
            "Done: 15 of 121\n",
            "Done: 16 of 121\n",
            "Done: 17 of 121\n",
            "Done: 18 of 121\n",
            "Done: 19 of 121\n",
            "Done: 20 of 121\n",
            "Done: 21 of 121\n",
            "Done: 22 of 121\n",
            "Done: 23 of 121\n",
            "Done: 24 of 121\n",
            "Done: 25 of 121\n",
            "Done: 26 of 121\n",
            "Done: 27 of 121\n",
            "Done: 28 of 121\n",
            "Done: 29 of 121\n",
            "Done: 30 of 121\n",
            "Done: 31 of 121\n",
            "Done: 32 of 121\n",
            "Done: 33 of 121\n",
            "Done: 34 of 121\n",
            "Done: 35 of 121\n",
            "Done: 36 of 121\n",
            "Done: 37 of 121\n",
            "Done: 38 of 121\n",
            "Done: 39 of 121\n",
            "Done: 40 of 121\n",
            "Done: 41 of 121\n",
            "Done: 42 of 121\n",
            "Done: 43 of 121\n",
            "Done: 44 of 121\n",
            "Done: 45 of 121\n",
            "Done: 46 of 121\n",
            "Done: 47 of 121\n",
            "Done: 48 of 121\n",
            "Done: 49 of 121\n",
            "Done: 50 of 121\n",
            "Done: 51 of 121\n",
            "Done: 52 of 121\n",
            "Done: 53 of 121\n",
            "Done: 54 of 121\n",
            "Done: 55 of 121\n",
            "Done: 56 of 121\n",
            "Done: 57 of 121\n",
            "Done: 58 of 121\n",
            "Done: 59 of 121\n",
            "Done: 60 of 121\n",
            "Done: 61 of 121\n",
            "Done: 62 of 121\n",
            "Done: 63 of 121\n",
            "Done: 64 of 121\n",
            "Done: 65 of 121\n",
            "Done: 66 of 121\n",
            "Done: 67 of 121\n",
            "Done: 68 of 121\n",
            "Done: 69 of 121\n",
            "Done: 70 of 121\n",
            "Done: 71 of 121\n",
            "Done: 72 of 121\n",
            "Done: 73 of 121\n",
            "Done: 74 of 121\n",
            "Done: 75 of 121\n",
            "Done: 76 of 121\n",
            "Done: 77 of 121\n",
            "Done: 78 of 121\n",
            "Done: 79 of 121\n",
            "Done: 80 of 121\n",
            "Done: 81 of 121\n",
            "Done: 82 of 121\n",
            "Done: 83 of 121\n",
            "Done: 84 of 121\n",
            "Done: 85 of 121\n",
            "Done: 86 of 121\n",
            "Done: 87 of 121\n",
            "Done: 88 of 121\n",
            "Done: 89 of 121\n",
            "Done: 90 of 121\n",
            "Done: 91 of 121\n",
            "Done: 92 of 121\n",
            "Done: 93 of 121\n",
            "Done: 94 of 121\n",
            "Done: 95 of 121\n",
            "Done: 96 of 121\n",
            "Done: 97 of 121\n",
            "Done: 98 of 121\n",
            "Done: 99 of 121\n",
            "Done: 100 of 121\n",
            "Done: 101 of 121\n",
            "Done: 102 of 121\n",
            "Done: 103 of 121\n",
            "Done: 104 of 121\n",
            "Done: 105 of 121\n",
            "Done: 106 of 121\n",
            "Done: 107 of 121\n",
            "Done: 108 of 121\n",
            "Done: 109 of 121\n",
            "Done: 110 of 121\n",
            "Done: 111 of 121\n",
            "Done: 112 of 121\n",
            "Done: 113 of 121\n",
            "Done: 114 of 121\n",
            "Done: 115 of 121\n",
            "Done: 116 of 121\n",
            "Done: 117 of 121\n",
            "Done: 118 of 121\n",
            "Done: 119 of 121\n",
            "Done: 120 of 121\n"
          ],
          "name": "stdout"
        },
        {
          "output_type": "display_data",
          "data": {
            "image/png": "[encoded data removed]",
            "text/plain": [
              "<Figure size 720x432 with 2 Axes>"
            ]
          },
          "metadata": {
            "tags": [],
            "needs_background": "light"
          }
        }
      ]
    },
    {
      "cell_type": "code",
      "metadata": {
        "id": "nFY7gbAYam9Z",
        "colab_type": "code",
        "colab": {}
      },
      "source": [
        "final_weights_mnist_small = mnist_weights_small[-2]\n",
        "augmented_train_mnist_small_x = torch.mm(mnist_train_x, final_weights_mnist_small.t())\n",
        "augmented_test_mnist_small_x = torch.mm(mnist_test_x, final_weights_mnist_small.t())"
      ],
      "execution_count": null,
      "outputs": []
    },
    {
      "cell_type": "code",
      "metadata": {
        "id": "z_GPtmr7at8o",
        "colab_type": "code",
        "colab": {
          "base_uri": "https://localhost:8080/",
          "height": 734
        },
        "outputId": "c165ce7f-860a-4014-b236-b51d7694252f"
      },
      "source": [
        "#testing good cifar10 bio model vs standard\n",
        "standard_mnist_model_small = keras.Sequential([\n",
        "    keras.layers.Dense(9, input_shape=(28*28,)),                   \n",
        "    keras.layers.Dense(10, activation=\"softmax\")\n",
        "])\n",
        "standard_mnist_model_small.compile(optimizer=\"adam\", loss=\"sparse_categorical_crossentropy\", metrics=[\"sparse_categorical_accuracy\"])\n",
        "history_standard_mnist_small = standard_mnist_model_small.fit(mnist_train_x, mnist_train_y, batch_size=256, epochs=20, validation_data=(mnist_test_x, mnist_test_y))"
      ],
      "execution_count": null,
      "outputs": [
        {
          "output_type": "stream",
          "text": [
            "Train on 60000 samples, validate on 10000 samples\n",
            "Epoch 1/20\n",
            "60000/60000 [==============================] - 1s 16us/step - loss: 0.9399 - sparse_categorical_accuracy: 0.7462 - val_loss: 0.4582 - val_sparse_categorical_accuracy: 0.8752\n",
            "Epoch 2/20\n",
            "60000/60000 [==============================] - 1s 15us/step - loss: 0.4102 - sparse_categorical_accuracy: 0.8868 - val_loss: 0.3439 - val_sparse_categorical_accuracy: 0.9008\n",
            "Epoch 3/20\n",
            "60000/60000 [==============================] - 1s 15us/step - loss: 0.3412 - sparse_categorical_accuracy: 0.9035 - val_loss: 0.3103 - val_sparse_categorical_accuracy: 0.9105\n",
            "Epoch 4/20\n",
            "60000/60000 [==============================] - 1s 15us/step - loss: 0.3137 - sparse_categorical_accuracy: 0.9118 - val_loss: 0.2956 - val_sparse_categorical_accuracy: 0.9153\n",
            "Epoch 5/20\n",
            "60000/60000 [==============================] - 1s 15us/step - loss: 0.2976 - sparse_categorical_accuracy: 0.9165 - val_loss: 0.2868 - val_sparse_categorical_accuracy: 0.9195\n",
            "Epoch 6/20\n",
            "60000/60000 [==============================] - 1s 15us/step - loss: 0.2865 - sparse_categorical_accuracy: 0.9203 - val_loss: 0.2822 - val_sparse_categorical_accuracy: 0.9198\n",
            "Epoch 7/20\n",
            "60000/60000 [==============================] - 1s 15us/step - loss: 0.2793 - sparse_categorical_accuracy: 0.9219 - val_loss: 0.2750 - val_sparse_categorical_accuracy: 0.9223\n",
            "Epoch 8/20\n",
            "60000/60000 [==============================] - 1s 15us/step - loss: 0.2740 - sparse_categorical_accuracy: 0.9234 - val_loss: 0.2720 - val_sparse_categorical_accuracy: 0.9220\n",
            "Epoch 9/20\n",
            "60000/60000 [==============================] - 1s 15us/step - loss: 0.2693 - sparse_categorical_accuracy: 0.9254 - val_loss: 0.2705 - val_sparse_categorical_accuracy: 0.9224\n",
            "Epoch 10/20\n",
            "60000/60000 [==============================] - 1s 15us/step - loss: 0.2661 - sparse_categorical_accuracy: 0.9258 - val_loss: 0.2678 - val_sparse_categorical_accuracy: 0.9234\n",
            "Epoch 11/20\n",
            "60000/60000 [==============================] - 1s 15us/step - loss: 0.2624 - sparse_categorical_accuracy: 0.9274 - val_loss: 0.2680 - val_sparse_categorical_accuracy: 0.9253\n",
            "Epoch 12/20\n",
            "60000/60000 [==============================] - 1s 15us/step - loss: 0.2601 - sparse_categorical_accuracy: 0.9279 - val_loss: 0.2671 - val_sparse_categorical_accuracy: 0.9241\n",
            "Epoch 13/20\n",
            "60000/60000 [==============================] - 1s 15us/step - loss: 0.2578 - sparse_categorical_accuracy: 0.9284 - val_loss: 0.2679 - val_sparse_categorical_accuracy: 0.9254\n",
            "Epoch 14/20\n",
            "60000/60000 [==============================] - 1s 15us/step - loss: 0.2560 - sparse_categorical_accuracy: 0.9294 - val_loss: 0.2662 - val_sparse_categorical_accuracy: 0.9244\n",
            "Epoch 15/20\n",
            "60000/60000 [==============================] - 1s 15us/step - loss: 0.2541 - sparse_categorical_accuracy: 0.9292 - val_loss: 0.2697 - val_sparse_categorical_accuracy: 0.9258\n",
            "Epoch 16/20\n",
            "60000/60000 [==============================] - 1s 15us/step - loss: 0.2523 - sparse_categorical_accuracy: 0.9299 - val_loss: 0.2658 - val_sparse_categorical_accuracy: 0.9248\n",
            "Epoch 17/20\n",
            "60000/60000 [==============================] - 1s 15us/step - loss: 0.2514 - sparse_categorical_accuracy: 0.9308 - val_loss: 0.2649 - val_sparse_categorical_accuracy: 0.9273\n",
            "Epoch 18/20\n",
            "60000/60000 [==============================] - 1s 15us/step - loss: 0.2501 - sparse_categorical_accuracy: 0.9309 - val_loss: 0.2657 - val_sparse_categorical_accuracy: 0.9265\n",
            "Epoch 19/20\n",
            "60000/60000 [==============================] - 1s 15us/step - loss: 0.2488 - sparse_categorical_accuracy: 0.9316 - val_loss: 0.2640 - val_sparse_categorical_accuracy: 0.9272\n",
            "Epoch 20/20\n",
            "60000/60000 [==============================] - 1s 15us/step - loss: 0.2476 - sparse_categorical_accuracy: 0.9326 - val_loss: 0.2654 - val_sparse_categorical_accuracy: 0.9269\n"
          ],
          "name": "stdout"
        }
      ]
    },
    {
      "cell_type": "code",
      "metadata": {
        "id": "Jk_66DNpat-j",
        "colab_type": "code",
        "colab": {
          "base_uri": "https://localhost:8080/",
          "height": 734
        },
        "outputId": "e89ae327-6067-46ec-c6b2-ed7372a7243d"
      },
      "source": [
        "bio_mnist_model_small = keras.Sequential([                   \n",
        "    keras.layers.Dense(10, input_shape=(9, ), activation=\"softmax\")\n",
        "])\n",
        "bio_mnist_model_small.compile(optimizer=\"adam\", loss=\"sparse_categorical_crossentropy\", metrics=[\"sparse_categorical_accuracy\"])\n",
        "history_bio_mnist_small = bio_mnist_model_small.fit(augmented_train_mnist_small_x, mnist_train_y, batch_size=256, epochs=20, validation_data=(augmented_test_mnist_small_x, mnist_test_y))"
      ],
      "execution_count": null,
      "outputs": [
        {
          "output_type": "stream",
          "text": [
            "Train on 60000 samples, validate on 10000 samples\n",
            "Epoch 1/20\n",
            "60000/60000 [==============================] - 1s 12us/step - loss: 3.6387 - sparse_categorical_accuracy: 0.0656 - val_loss: 2.6705 - val_sparse_categorical_accuracy: 0.0931\n",
            "Epoch 2/20\n",
            "60000/60000 [==============================] - 1s 11us/step - loss: 2.4018 - sparse_categorical_accuracy: 0.1220 - val_loss: 2.1506 - val_sparse_categorical_accuracy: 0.1726\n",
            "Epoch 3/20\n",
            "60000/60000 [==============================] - 1s 11us/step - loss: 1.9739 - sparse_categorical_accuracy: 0.2859 - val_loss: 1.7814 - val_sparse_categorical_accuracy: 0.4263\n",
            "Epoch 4/20\n",
            "60000/60000 [==============================] - 1s 11us/step - loss: 1.6759 - sparse_categorical_accuracy: 0.4946 - val_loss: 1.5319 - val_sparse_categorical_accuracy: 0.5711\n",
            "Epoch 5/20\n",
            "60000/60000 [==============================] - 1s 11us/step - loss: 1.4698 - sparse_categorical_accuracy: 0.5875 - val_loss: 1.3596 - val_sparse_categorical_accuracy: 0.6216\n",
            "Epoch 6/20\n",
            "60000/60000 [==============================] - 1s 11us/step - loss: 1.3236 - sparse_categorical_accuracy: 0.6270 - val_loss: 1.2348 - val_sparse_categorical_accuracy: 0.6528\n",
            "Epoch 7/20\n",
            "60000/60000 [==============================] - 1s 11us/step - loss: 1.2154 - sparse_categorical_accuracy: 0.6467 - val_loss: 1.1431 - val_sparse_categorical_accuracy: 0.6644\n",
            "Epoch 8/20\n",
            "60000/60000 [==============================] - 1s 11us/step - loss: 1.1336 - sparse_categorical_accuracy: 0.6586 - val_loss: 1.0726 - val_sparse_categorical_accuracy: 0.6741\n",
            "Epoch 9/20\n",
            "60000/60000 [==============================] - 1s 11us/step - loss: 1.0693 - sparse_categorical_accuracy: 0.6683 - val_loss: 1.0181 - val_sparse_categorical_accuracy: 0.6796\n",
            "Epoch 10/20\n",
            "60000/60000 [==============================] - 1s 11us/step - loss: 1.0181 - sparse_categorical_accuracy: 0.6764 - val_loss: 0.9746 - val_sparse_categorical_accuracy: 0.6852\n",
            "Epoch 11/20\n",
            "60000/60000 [==============================] - 1s 11us/step - loss: 0.9764 - sparse_categorical_accuracy: 0.6864 - val_loss: 0.9353 - val_sparse_categorical_accuracy: 0.6993\n",
            "Epoch 12/20\n",
            "60000/60000 [==============================] - 1s 11us/step - loss: 0.9421 - sparse_categorical_accuracy: 0.6996 - val_loss: 0.9064 - val_sparse_categorical_accuracy: 0.7092\n",
            "Epoch 13/20\n",
            "60000/60000 [==============================] - 1s 11us/step - loss: 0.9131 - sparse_categorical_accuracy: 0.7135 - val_loss: 0.8801 - val_sparse_categorical_accuracy: 0.7220\n",
            "Epoch 14/20\n",
            "60000/60000 [==============================] - 1s 11us/step - loss: 0.8889 - sparse_categorical_accuracy: 0.7244 - val_loss: 0.8605 - val_sparse_categorical_accuracy: 0.7285\n",
            "Epoch 15/20\n",
            "60000/60000 [==============================] - 1s 11us/step - loss: 0.8681 - sparse_categorical_accuracy: 0.7340 - val_loss: 0.8407 - val_sparse_categorical_accuracy: 0.7417\n",
            "Epoch 16/20\n",
            "60000/60000 [==============================] - 1s 11us/step - loss: 0.8501 - sparse_categorical_accuracy: 0.7414 - val_loss: 0.8254 - val_sparse_categorical_accuracy: 0.7471\n",
            "Epoch 17/20\n",
            "60000/60000 [==============================] - 1s 11us/step - loss: 0.8344 - sparse_categorical_accuracy: 0.7437 - val_loss: 0.8113 - val_sparse_categorical_accuracy: 0.7498\n",
            "Epoch 18/20\n",
            "60000/60000 [==============================] - 1s 11us/step - loss: 0.8209 - sparse_categorical_accuracy: 0.7468 - val_loss: 0.7978 - val_sparse_categorical_accuracy: 0.7525\n",
            "Epoch 19/20\n",
            "60000/60000 [==============================] - 1s 11us/step - loss: 0.8089 - sparse_categorical_accuracy: 0.7485 - val_loss: 0.7880 - val_sparse_categorical_accuracy: 0.7559\n",
            "Epoch 20/20\n",
            "60000/60000 [==============================] - 1s 11us/step - loss: 0.7986 - sparse_categorical_accuracy: 0.7491 - val_loss: 0.7777 - val_sparse_categorical_accuracy: 0.7565\n"
          ],
          "name": "stdout"
        }
      ]
    },
    {
      "cell_type": "code",
      "metadata": {
        "id": "ZtnLmB-KauAp",
        "colab_type": "code",
        "colab": {
          "base_uri": "https://localhost:8080/",
          "height": 483
        },
        "outputId": "74a7fdbc-3ddb-4137-d4b2-d94f364486ad"
      },
      "source": [
        "compare_models(history_standard_mnist_small, history_bio_mnist_small)"
      ],
      "execution_count": null,
      "outputs": [
        {
          "output_type": "display_data",
          "data": {
            "image/png": "[encoded data removed]",
            "text/plain": [
              "<Figure size 576x576 with 1 Axes>"
            ]
          },
          "metadata": {
            "tags": [],
            "needs_background": "light"
          }
        }
      ]
    },
    {
      "cell_type": "code",
      "metadata": {
        "id": "xgrMDnEjdBqs",
        "colab_type": "code",
        "colab": {}
      },
      "source": [
        ""
      ],
      "execution_count": null,
      "outputs": []
    },
    {
      "cell_type": "code",
      "metadata": {
        "id": "Vix3ZluJe4TY",
        "colab_type": "code",
        "colab": {}
      },
      "source": [
        "def get_unsupervised_weights_2(X, n_hidden, n_epochs, batch_size, prev_weights = None,\n",
        "        learning_rate=2e-2, precision=1e-30, anti_hebbian_learning_strength=0.4, lebesgue_norm=2.0, rank=2):\n",
        "    sample_sz = X.shape[1]    \n",
        "    weights = torch.rand((n_hidden, sample_sz), dtype=torch.float).cuda()\n",
        "    for epoch in range(n_epochs):    \n",
        "        eps = learning_rate * (1 - epoch / n_epochs)        \n",
        "        shuffled_epoch_data = X[torch.randperm(X.shape[0]),:]\n",
        "        for i in range(X.shape[0] // batch_size):\n",
        "            mini_batch = shuffled_epoch_data[i*batch_size:(i+1)*batch_size,:].cuda()            \n",
        "            mini_batch = torch.transpose(mini_batch, 0, 1)            \n",
        "            sign = torch.sign(weights)            \n",
        "            W = sign * torch.abs(weights) ** (lebesgue_norm - 1)        \n",
        "            tot_input=torch.mm(W, mini_batch)            \n",
        "            \n",
        "            y = torch.argsort(tot_input, dim=0)            \n",
        "            yl = torch.zeros((n_hidden, batch_size), dtype = torch.float).cuda()\n",
        "            yl[y[n_hidden-1,:], torch.arange(batch_size)] = 1.0\n",
        "            yl[y[n_hidden-rank], torch.arange(batch_size)] =- anti_hebbian_learning_strength            \n",
        "                    \n",
        "            xx = torch.sum(yl * tot_input,1)            \n",
        "            xx = xx.unsqueeze(1)                    \n",
        "            xx = xx.repeat(1, sample_sz)                            \n",
        "            ds = torch.mm(yl, torch.transpose(mini_batch, 0, 1)) - xx * weights            \n",
        "            \n",
        "            nc = torch.max(torch.abs(ds))            \n",
        "            if nc < precision:\n",
        "              nc = precision            \n",
        "            weights += eps*(ds/nc)\n",
        "        print(\"Done: \" + str(epoch))\n",
        "    return weights.cpu()\n",
        "\n",
        "\n",
        "def get_final_mnist_weights(n_hidden):\n",
        "  return get_unsupervised_weights_2(mnist_train_x, n_hidden, 10, 50)"
      ],
      "execution_count": null,
      "outputs": []
    },
    {
      "cell_type": "code",
      "metadata": {
        "id": "VkuEC9AEftyM",
        "colab_type": "code",
        "colab": {}
      },
      "source": [
        "def train_standard_mnist_model(n_hidden):\n",
        "  #testing good cifar10 bio model vs standard\n",
        "  model = keras.Sequential([\n",
        "      keras.layers.Dense(n_hidden, input_shape=(28*28,)),                   \n",
        "      keras.layers.Dense(10, activation=\"softmax\")\n",
        "  ])\n",
        "  model.compile(optimizer=\"adam\", loss=\"sparse_categorical_crossentropy\", metrics=[\"sparse_categorical_accuracy\"])\n",
        "  history = model.fit(mnist_train_x, mnist_train_y, batch_size=256, epochs=20, validation_data=(mnist_test_x, mnist_test_y))\n",
        "  return history.history"
      ],
      "execution_count": null,
      "outputs": []
    },
    {
      "cell_type": "code",
      "metadata": {
        "id": "YSjvV-6VgXwL",
        "colab_type": "code",
        "colab": {}
      },
      "source": [
        "def train_bio_mnist_model(n_hidden, final_mnist_weights):\n",
        "  augmented_mnist_train_x = torch.mm(mnist_train_x, final_mnist_weights.t())\n",
        "  augmented_mnist_test_x = torch.mm(mnist_test_x, final_mnist_weights.t())\n",
        "\n",
        "  bio_model = keras.Sequential([                   \n",
        "    keras.layers.Dense(10, input_shape=(n_hidden, ), activation=\"softmax\")\n",
        "])\n",
        "  bio_model.compile(optimizer=\"adam\", loss=\"sparse_categorical_crossentropy\", metrics=[\"sparse_categorical_accuracy\"])\n",
        "  history_bio = bio_model.fit(augmented_mnist_train_x, mnist_train_y, batch_size=256, epochs=20, validation_data=(augmented_mnist_test_x, mnist_test_y))\n",
        "  return history_bio.history"
      ],
      "execution_count": null,
      "outputs": []
    },
    {
      "cell_type": "code",
      "metadata": {
        "id": "FL0lHOocd--A",
        "colab_type": "code",
        "colab": {
          "base_uri": "https://localhost:8080/",
          "height": 1000
        },
        "outputId": "18de5185-422b-4809-f5b3-9f9a57815a18"
      },
      "source": [
        "fib = range(7, 13)\n",
        "standard_val_accuracies = []\n",
        "bio_val_accuracies = []\n",
        "\n",
        "for n_hidden in fib:\n",
        "  final_mnist_weights = get_final_mnist_weights(n_hidden)\n",
        "  standard_history = train_standard_mnist_model(n_hidden)\n",
        "  bio_history = train_bio_mnist_model(n_hidden, final_mnist_weights)\n",
        "  standard_val_accuracies.append(standard_history[\"val_sparse_categorical_accuracy\"])\n",
        "  bio_val_accuracies.append(bio_history[\"val_sparse_categorical_accuracy\"])"
      ],
      "execution_count": null,
      "outputs": [
        {
          "output_type": "stream",
          "text": [
            "Done: 0\n",
            "Done: 1\n",
            "Done: 2\n",
            "Done: 3\n",
            "Done: 4\n",
            "Done: 5\n",
            "Done: 6\n",
            "Done: 7\n",
            "Done: 8\n",
            "Done: 9\n",
            "Train on 60000 samples, validate on 10000 samples\n",
            "Epoch 1/20\n",
            "60000/60000 [==============================] - 1s 21us/step - loss: 1.0081 - sparse_categorical_accuracy: 0.7101 - val_loss: 0.5624 - val_sparse_categorical_accuracy: 0.8425\n",
            "Epoch 2/20\n",
            "60000/60000 [==============================] - 1s 16us/step - loss: 0.4930 - sparse_categorical_accuracy: 0.8601 - val_loss: 0.4185 - val_sparse_categorical_accuracy: 0.8832\n",
            "Epoch 3/20\n",
            "60000/60000 [==============================] - 1s 17us/step - loss: 0.4002 - sparse_categorical_accuracy: 0.8866 - val_loss: 0.3621 - val_sparse_categorical_accuracy: 0.8983\n",
            "Epoch 4/20\n",
            "60000/60000 [==============================] - 1s 16us/step - loss: 0.3588 - sparse_categorical_accuracy: 0.8984 - val_loss: 0.3370 - val_sparse_categorical_accuracy: 0.9043\n",
            "Epoch 5/20\n",
            "60000/60000 [==============================] - 1s 17us/step - loss: 0.3362 - sparse_categorical_accuracy: 0.9055 - val_loss: 0.3228 - val_sparse_categorical_accuracy: 0.9099\n",
            "Epoch 6/20\n",
            "60000/60000 [==============================] - 1s 17us/step - loss: 0.3228 - sparse_categorical_accuracy: 0.9098 - val_loss: 0.3149 - val_sparse_categorical_accuracy: 0.9102\n",
            "Epoch 7/20\n",
            "60000/60000 [==============================] - 1s 16us/step - loss: 0.3137 - sparse_categorical_accuracy: 0.9115 - val_loss: 0.3092 - val_sparse_categorical_accuracy: 0.9128\n",
            "Epoch 8/20\n",
            "60000/60000 [==============================] - 1s 16us/step - loss: 0.3069 - sparse_categorical_accuracy: 0.9139 - val_loss: 0.3059 - val_sparse_categorical_accuracy: 0.9133\n",
            "Epoch 9/20\n",
            "60000/60000 [==============================] - 1s 16us/step - loss: 0.3012 - sparse_categorical_accuracy: 0.9158 - val_loss: 0.3026 - val_sparse_categorical_accuracy: 0.9128\n",
            "Epoch 10/20\n",
            "60000/60000 [==============================] - 1s 18us/step - loss: 0.2969 - sparse_categorical_accuracy: 0.9173 - val_loss: 0.3038 - val_sparse_categorical_accuracy: 0.9149\n",
            "Epoch 11/20\n",
            "60000/60000 [==============================] - 1s 18us/step - loss: 0.2936 - sparse_categorical_accuracy: 0.9184 - val_loss: 0.2982 - val_sparse_categorical_accuracy: 0.9162\n",
            "Epoch 12/20\n",
            "60000/60000 [==============================] - 1s 17us/step - loss: 0.2905 - sparse_categorical_accuracy: 0.9195 - val_loss: 0.2972 - val_sparse_categorical_accuracy: 0.9154\n",
            "Epoch 13/20\n",
            "60000/60000 [==============================] - 1s 17us/step - loss: 0.2881 - sparse_categorical_accuracy: 0.9199 - val_loss: 0.2952 - val_sparse_categorical_accuracy: 0.9174\n",
            "Epoch 14/20\n",
            "60000/60000 [==============================] - 1s 17us/step - loss: 0.2858 - sparse_categorical_accuracy: 0.9212 - val_loss: 0.2933 - val_sparse_categorical_accuracy: 0.9177\n",
            "Epoch 15/20\n",
            "60000/60000 [==============================] - 1s 17us/step - loss: 0.2836 - sparse_categorical_accuracy: 0.9216 - val_loss: 0.2935 - val_sparse_categorical_accuracy: 0.9184\n",
            "Epoch 16/20\n",
            "60000/60000 [==============================] - 1s 17us/step - loss: 0.2819 - sparse_categorical_accuracy: 0.9221 - val_loss: 0.2934 - val_sparse_categorical_accuracy: 0.9191\n",
            "Epoch 17/20\n",
            "60000/60000 [==============================] - 1s 18us/step - loss: 0.2800 - sparse_categorical_accuracy: 0.9227 - val_loss: 0.2921 - val_sparse_categorical_accuracy: 0.9207\n",
            "Epoch 18/20\n",
            "60000/60000 [==============================] - 1s 17us/step - loss: 0.2789 - sparse_categorical_accuracy: 0.9231 - val_loss: 0.2922 - val_sparse_categorical_accuracy: 0.9196\n",
            "Epoch 19/20\n",
            "60000/60000 [==============================] - 1s 17us/step - loss: 0.2772 - sparse_categorical_accuracy: 0.9237 - val_loss: 0.2911 - val_sparse_categorical_accuracy: 0.9212\n",
            "Epoch 20/20\n",
            "60000/60000 [==============================] - 1s 17us/step - loss: 0.2759 - sparse_categorical_accuracy: 0.9245 - val_loss: 0.2930 - val_sparse_categorical_accuracy: 0.9212\n",
            "Train on 60000 samples, validate on 10000 samples\n",
            "Epoch 1/20\n",
            "60000/60000 [==============================] - 1s 12us/step - loss: 5.4202 - sparse_categorical_accuracy: 0.0470 - val_loss: 2.8271 - val_sparse_categorical_accuracy: 0.0903\n",
            "Epoch 2/20\n",
            "60000/60000 [==============================] - 1s 11us/step - loss: 2.4751 - sparse_categorical_accuracy: 0.1475 - val_loss: 2.2870 - val_sparse_categorical_accuracy: 0.2179\n",
            "Epoch 3/20\n",
            "60000/60000 [==============================] - 1s 11us/step - loss: 2.1372 - sparse_categorical_accuracy: 0.2715 - val_loss: 1.9909 - val_sparse_categorical_accuracy: 0.3213\n",
            "Epoch 4/20\n",
            "60000/60000 [==============================] - 1s 11us/step - loss: 1.8751 - sparse_categorical_accuracy: 0.3518 - val_loss: 1.7517 - val_sparse_categorical_accuracy: 0.3904\n",
            "Epoch 5/20\n",
            "60000/60000 [==============================] - 1s 12us/step - loss: 1.6632 - sparse_categorical_accuracy: 0.4340 - val_loss: 1.5597 - val_sparse_categorical_accuracy: 0.4998\n",
            "Epoch 6/20\n",
            "60000/60000 [==============================] - 1s 12us/step - loss: 1.4946 - sparse_categorical_accuracy: 0.5463 - val_loss: 1.4092 - val_sparse_categorical_accuracy: 0.5752\n",
            "Epoch 7/20\n",
            "60000/60000 [==============================] - 1s 12us/step - loss: 1.3630 - sparse_categorical_accuracy: 0.5912 - val_loss: 1.2917 - val_sparse_categorical_accuracy: 0.6055\n",
            "Epoch 8/20\n",
            "60000/60000 [==============================] - 1s 12us/step - loss: 1.2611 - sparse_categorical_accuracy: 0.6176 - val_loss: 1.2019 - val_sparse_categorical_accuracy: 0.6292\n",
            "Epoch 9/20\n",
            "60000/60000 [==============================] - 1s 12us/step - loss: 1.1826 - sparse_categorical_accuracy: 0.6404 - val_loss: 1.1335 - val_sparse_categorical_accuracy: 0.6530\n",
            "Epoch 10/20\n",
            "60000/60000 [==============================] - 1s 11us/step - loss: 1.1212 - sparse_categorical_accuracy: 0.6612 - val_loss: 1.0784 - val_sparse_categorical_accuracy: 0.6736\n",
            "Epoch 11/20\n",
            "60000/60000 [==============================] - 1s 12us/step - loss: 1.0728 - sparse_categorical_accuracy: 0.6713 - val_loss: 1.0350 - val_sparse_categorical_accuracy: 0.6823\n",
            "Epoch 12/20\n",
            "60000/60000 [==============================] - 1s 12us/step - loss: 1.0336 - sparse_categorical_accuracy: 0.6785 - val_loss: 0.9996 - val_sparse_categorical_accuracy: 0.6869\n",
            "Epoch 13/20\n",
            "60000/60000 [==============================] - 1s 11us/step - loss: 1.0017 - sparse_categorical_accuracy: 0.6835 - val_loss: 0.9714 - val_sparse_categorical_accuracy: 0.6896\n",
            "Epoch 14/20\n",
            "60000/60000 [==============================] - 1s 11us/step - loss: 0.9753 - sparse_categorical_accuracy: 0.6877 - val_loss: 0.9476 - val_sparse_categorical_accuracy: 0.6928\n",
            "Epoch 15/20\n",
            "60000/60000 [==============================] - 1s 11us/step - loss: 0.9534 - sparse_categorical_accuracy: 0.6905 - val_loss: 0.9274 - val_sparse_categorical_accuracy: 0.6921\n",
            "Epoch 16/20\n",
            "60000/60000 [==============================] - 1s 11us/step - loss: 0.9346 - sparse_categorical_accuracy: 0.6934 - val_loss: 0.9106 - val_sparse_categorical_accuracy: 0.6967\n",
            "Epoch 17/20\n",
            "60000/60000 [==============================] - 1s 11us/step - loss: 0.9184 - sparse_categorical_accuracy: 0.6967 - val_loss: 0.8954 - val_sparse_categorical_accuracy: 0.6991\n",
            "Epoch 18/20\n",
            "60000/60000 [==============================] - 1s 12us/step - loss: 0.9044 - sparse_categorical_accuracy: 0.6990 - val_loss: 0.8829 - val_sparse_categorical_accuracy: 0.7028\n",
            "Epoch 19/20\n",
            "60000/60000 [==============================] - 1s 12us/step - loss: 0.8926 - sparse_categorical_accuracy: 0.7010 - val_loss: 0.8727 - val_sparse_categorical_accuracy: 0.7032\n",
            "Epoch 20/20\n",
            "60000/60000 [==============================] - 1s 11us/step - loss: 0.8821 - sparse_categorical_accuracy: 0.7028 - val_loss: 0.8633 - val_sparse_categorical_accuracy: 0.7027\n",
            "Done: 0\n",
            "Done: 1\n",
            "Done: 2\n",
            "Done: 3\n",
            "Done: 4\n",
            "Done: 5\n",
            "Done: 6\n",
            "Done: 7\n",
            "Done: 8\n",
            "Done: 9\n",
            "Train on 60000 samples, validate on 10000 samples\n",
            "Epoch 1/20\n",
            "60000/60000 [==============================] - 1s 19us/step - loss: 0.9576 - sparse_categorical_accuracy: 0.7446 - val_loss: 0.4743 - val_sparse_categorical_accuracy: 0.8761\n",
            "Epoch 2/20\n",
            "60000/60000 [==============================] - 1s 17us/step - loss: 0.4155 - sparse_categorical_accuracy: 0.8860 - val_loss: 0.3573 - val_sparse_categorical_accuracy: 0.8995\n",
            "Epoch 3/20\n",
            "60000/60000 [==============================] - 1s 17us/step - loss: 0.3461 - sparse_categorical_accuracy: 0.9018 - val_loss: 0.3248 - val_sparse_categorical_accuracy: 0.9076\n",
            "Epoch 4/20\n",
            "60000/60000 [==============================] - 1s 17us/step - loss: 0.3183 - sparse_categorical_accuracy: 0.9105 - val_loss: 0.3097 - val_sparse_categorical_accuracy: 0.9135\n",
            "Epoch 5/20\n",
            "60000/60000 [==============================] - 1s 17us/step - loss: 0.3030 - sparse_categorical_accuracy: 0.9156 - val_loss: 0.3038 - val_sparse_categorical_accuracy: 0.9149\n",
            "Epoch 6/20\n",
            "60000/60000 [==============================] - 1s 17us/step - loss: 0.2938 - sparse_categorical_accuracy: 0.9179 - val_loss: 0.2910 - val_sparse_categorical_accuracy: 0.9197\n",
            "Epoch 7/20\n",
            "60000/60000 [==============================] - 1s 18us/step - loss: 0.2873 - sparse_categorical_accuracy: 0.9197 - val_loss: 0.2876 - val_sparse_categorical_accuracy: 0.9202\n",
            "Epoch 8/20\n",
            "60000/60000 [==============================] - 1s 18us/step - loss: 0.2820 - sparse_categorical_accuracy: 0.9214 - val_loss: 0.2865 - val_sparse_categorical_accuracy: 0.9204\n",
            "Epoch 9/20\n",
            "60000/60000 [==============================] - 1s 17us/step - loss: 0.2774 - sparse_categorical_accuracy: 0.9227 - val_loss: 0.2857 - val_sparse_categorical_accuracy: 0.9223\n",
            "Epoch 10/20\n",
            "60000/60000 [==============================] - 1s 18us/step - loss: 0.2745 - sparse_categorical_accuracy: 0.9243 - val_loss: 0.2816 - val_sparse_categorical_accuracy: 0.9229\n",
            "Epoch 11/20\n",
            "60000/60000 [==============================] - 1s 18us/step - loss: 0.2716 - sparse_categorical_accuracy: 0.9250 - val_loss: 0.2801 - val_sparse_categorical_accuracy: 0.9238\n",
            "Epoch 12/20\n",
            "60000/60000 [==============================] - 1s 17us/step - loss: 0.2694 - sparse_categorical_accuracy: 0.9258 - val_loss: 0.2787 - val_sparse_categorical_accuracy: 0.9254\n",
            "Epoch 13/20\n",
            "60000/60000 [==============================] - 1s 17us/step - loss: 0.2668 - sparse_categorical_accuracy: 0.9263 - val_loss: 0.2787 - val_sparse_categorical_accuracy: 0.9232\n",
            "Epoch 14/20\n",
            "60000/60000 [==============================] - 1s 16us/step - loss: 0.2650 - sparse_categorical_accuracy: 0.9273 - val_loss: 0.2782 - val_sparse_categorical_accuracy: 0.9229\n",
            "Epoch 15/20\n",
            "60000/60000 [==============================] - 1s 17us/step - loss: 0.2635 - sparse_categorical_accuracy: 0.9275 - val_loss: 0.2794 - val_sparse_categorical_accuracy: 0.9245\n",
            "Epoch 16/20\n",
            "60000/60000 [==============================] - 1s 18us/step - loss: 0.2621 - sparse_categorical_accuracy: 0.9281 - val_loss: 0.2766 - val_sparse_categorical_accuracy: 0.9246\n",
            "Epoch 17/20\n",
            "60000/60000 [==============================] - 1s 18us/step - loss: 0.2608 - sparse_categorical_accuracy: 0.9282 - val_loss: 0.2754 - val_sparse_categorical_accuracy: 0.9258\n",
            "Epoch 18/20\n",
            "60000/60000 [==============================] - 1s 17us/step - loss: 0.2595 - sparse_categorical_accuracy: 0.9283 - val_loss: 0.2804 - val_sparse_categorical_accuracy: 0.9231\n",
            "Epoch 19/20\n",
            "60000/60000 [==============================] - 1s 17us/step - loss: 0.2582 - sparse_categorical_accuracy: 0.9295 - val_loss: 0.2777 - val_sparse_categorical_accuracy: 0.9242\n",
            "Epoch 20/20\n",
            "60000/60000 [==============================] - 1s 17us/step - loss: 0.2574 - sparse_categorical_accuracy: 0.9293 - val_loss: 0.2781 - val_sparse_categorical_accuracy: 0.9234\n",
            "Train on 60000 samples, validate on 10000 samples\n",
            "Epoch 1/20\n",
            "60000/60000 [==============================] - 1s 12us/step - loss: 4.3222 - sparse_categorical_accuracy: 0.0647 - val_loss: 2.7454 - val_sparse_categorical_accuracy: 0.1093\n",
            "Epoch 2/20\n",
            "60000/60000 [==============================] - 1s 11us/step - loss: 2.3560 - sparse_categorical_accuracy: 0.1919 - val_loss: 2.1251 - val_sparse_categorical_accuracy: 0.2748\n",
            "Epoch 3/20\n",
            "60000/60000 [==============================] - 1s 12us/step - loss: 1.9943 - sparse_categorical_accuracy: 0.2993 - val_loss: 1.8447 - val_sparse_categorical_accuracy: 0.3426\n",
            "Epoch 4/20\n",
            "60000/60000 [==============================] - 1s 11us/step - loss: 1.7550 - sparse_categorical_accuracy: 0.3674 - val_loss: 1.6333 - val_sparse_categorical_accuracy: 0.3946\n",
            "Epoch 5/20\n",
            "60000/60000 [==============================] - 1s 11us/step - loss: 1.5730 - sparse_categorical_accuracy: 0.4318 - val_loss: 1.4734 - val_sparse_categorical_accuracy: 0.4545\n",
            "Epoch 6/20\n",
            "60000/60000 [==============================] - 1s 11us/step - loss: 1.4320 - sparse_categorical_accuracy: 0.4929 - val_loss: 1.3482 - val_sparse_categorical_accuracy: 0.5285\n",
            "Epoch 7/20\n",
            "60000/60000 [==============================] - 1s 12us/step - loss: 1.3215 - sparse_categorical_accuracy: 0.5512 - val_loss: 1.2507 - val_sparse_categorical_accuracy: 0.5782\n",
            "Epoch 8/20\n",
            "60000/60000 [==============================] - 1s 12us/step - loss: 1.2348 - sparse_categorical_accuracy: 0.5960 - val_loss: 1.1735 - val_sparse_categorical_accuracy: 0.6197\n",
            "Epoch 9/20\n",
            "60000/60000 [==============================] - 1s 11us/step - loss: 1.1661 - sparse_categorical_accuracy: 0.6271 - val_loss: 1.1126 - val_sparse_categorical_accuracy: 0.6392\n",
            "Epoch 10/20\n",
            "60000/60000 [==============================] - 1s 12us/step - loss: 1.1112 - sparse_categorical_accuracy: 0.6439 - val_loss: 1.0637 - val_sparse_categorical_accuracy: 0.6544\n",
            "Epoch 11/20\n",
            "60000/60000 [==============================] - 1s 12us/step - loss: 1.0661 - sparse_categorical_accuracy: 0.6577 - val_loss: 1.0240 - val_sparse_categorical_accuracy: 0.6678\n",
            "Epoch 12/20\n",
            "60000/60000 [==============================] - 1s 12us/step - loss: 1.0291 - sparse_categorical_accuracy: 0.6673 - val_loss: 0.9916 - val_sparse_categorical_accuracy: 0.6724\n",
            "Epoch 13/20\n",
            "60000/60000 [==============================] - 1s 11us/step - loss: 0.9983 - sparse_categorical_accuracy: 0.6758 - val_loss: 0.9651 - val_sparse_categorical_accuracy: 0.6818\n",
            "Epoch 14/20\n",
            "60000/60000 [==============================] - 1s 11us/step - loss: 0.9721 - sparse_categorical_accuracy: 0.6824 - val_loss: 0.9412 - val_sparse_categorical_accuracy: 0.6830\n",
            "Epoch 15/20\n",
            "60000/60000 [==============================] - 1s 12us/step - loss: 0.9497 - sparse_categorical_accuracy: 0.6874 - val_loss: 0.9204 - val_sparse_categorical_accuracy: 0.6935\n",
            "Epoch 16/20\n",
            "60000/60000 [==============================] - 1s 13us/step - loss: 0.9302 - sparse_categorical_accuracy: 0.6931 - val_loss: 0.9021 - val_sparse_categorical_accuracy: 0.6960\n",
            "Epoch 17/20\n",
            "60000/60000 [==============================] - 1s 13us/step - loss: 0.9134 - sparse_categorical_accuracy: 0.6964 - val_loss: 0.8868 - val_sparse_categorical_accuracy: 0.7036\n",
            "Epoch 18/20\n",
            "60000/60000 [==============================] - 1s 13us/step - loss: 0.8985 - sparse_categorical_accuracy: 0.7007 - val_loss: 0.8733 - val_sparse_categorical_accuracy: 0.7077\n",
            "Epoch 19/20\n",
            "60000/60000 [==============================] - 1s 13us/step - loss: 0.8852 - sparse_categorical_accuracy: 0.7033 - val_loss: 0.8635 - val_sparse_categorical_accuracy: 0.7163\n",
            "Epoch 20/20\n",
            "60000/60000 [==============================] - 1s 13us/step - loss: 0.8737 - sparse_categorical_accuracy: 0.7071 - val_loss: 0.8517 - val_sparse_categorical_accuracy: 0.7117\n",
            "Done: 0\n",
            "Done: 1\n",
            "Done: 2\n",
            "Done: 3\n",
            "Done: 4\n",
            "Done: 5\n",
            "Done: 6\n",
            "Done: 7\n",
            "Done: 8\n",
            "Done: 9\n",
            "Train on 60000 samples, validate on 10000 samples\n",
            "Epoch 1/20\n",
            "60000/60000 [==============================] - 1s 19us/step - loss: 0.9440 - sparse_categorical_accuracy: 0.7399 - val_loss: 0.4587 - val_sparse_categorical_accuracy: 0.8767\n",
            "Epoch 2/20\n",
            "60000/60000 [==============================] - 1s 18us/step - loss: 0.4036 - sparse_categorical_accuracy: 0.8863 - val_loss: 0.3375 - val_sparse_categorical_accuracy: 0.9036\n",
            "Epoch 3/20\n",
            "60000/60000 [==============================] - 1s 17us/step - loss: 0.3329 - sparse_categorical_accuracy: 0.9062 - val_loss: 0.3025 - val_sparse_categorical_accuracy: 0.9142\n",
            "Epoch 4/20\n",
            "60000/60000 [==============================] - 1s 17us/step - loss: 0.3053 - sparse_categorical_accuracy: 0.9136 - val_loss: 0.2867 - val_sparse_categorical_accuracy: 0.9206\n",
            "Epoch 5/20\n",
            "60000/60000 [==============================] - 1s 17us/step - loss: 0.2902 - sparse_categorical_accuracy: 0.9177 - val_loss: 0.2784 - val_sparse_categorical_accuracy: 0.9204\n",
            "Epoch 6/20\n",
            "60000/60000 [==============================] - 1s 17us/step - loss: 0.2811 - sparse_categorical_accuracy: 0.9207 - val_loss: 0.2740 - val_sparse_categorical_accuracy: 0.9220\n",
            "Epoch 7/20\n",
            "60000/60000 [==============================] - 1s 17us/step - loss: 0.2748 - sparse_categorical_accuracy: 0.9228 - val_loss: 0.2725 - val_sparse_categorical_accuracy: 0.9228\n",
            "Epoch 8/20\n",
            "60000/60000 [==============================] - 1s 18us/step - loss: 0.2700 - sparse_categorical_accuracy: 0.9245 - val_loss: 0.2702 - val_sparse_categorical_accuracy: 0.9234\n",
            "Epoch 9/20\n",
            "60000/60000 [==============================] - 1s 17us/step - loss: 0.2662 - sparse_categorical_accuracy: 0.9255 - val_loss: 0.2669 - val_sparse_categorical_accuracy: 0.9250\n",
            "Epoch 10/20\n",
            "60000/60000 [==============================] - 1s 17us/step - loss: 0.2629 - sparse_categorical_accuracy: 0.9270 - val_loss: 0.2648 - val_sparse_categorical_accuracy: 0.9248\n",
            "Epoch 11/20\n",
            "60000/60000 [==============================] - 1s 17us/step - loss: 0.2603 - sparse_categorical_accuracy: 0.9274 - val_loss: 0.2640 - val_sparse_categorical_accuracy: 0.9262\n",
            "Epoch 12/20\n",
            "60000/60000 [==============================] - 1s 17us/step - loss: 0.2578 - sparse_categorical_accuracy: 0.9288 - val_loss: 0.2662 - val_sparse_categorical_accuracy: 0.9249\n",
            "Epoch 13/20\n",
            "60000/60000 [==============================] - 1s 17us/step - loss: 0.2563 - sparse_categorical_accuracy: 0.9289 - val_loss: 0.2650 - val_sparse_categorical_accuracy: 0.9252\n",
            "Epoch 14/20\n",
            "60000/60000 [==============================] - 1s 17us/step - loss: 0.2535 - sparse_categorical_accuracy: 0.9294 - val_loss: 0.2639 - val_sparse_categorical_accuracy: 0.9251\n",
            "Epoch 15/20\n",
            "60000/60000 [==============================] - 1s 17us/step - loss: 0.2525 - sparse_categorical_accuracy: 0.9298 - val_loss: 0.2645 - val_sparse_categorical_accuracy: 0.9251\n",
            "Epoch 16/20\n",
            "60000/60000 [==============================] - 1s 17us/step - loss: 0.2508 - sparse_categorical_accuracy: 0.9310 - val_loss: 0.2641 - val_sparse_categorical_accuracy: 0.9261\n",
            "Epoch 17/20\n",
            "60000/60000 [==============================] - 1s 18us/step - loss: 0.2496 - sparse_categorical_accuracy: 0.9314 - val_loss: 0.2629 - val_sparse_categorical_accuracy: 0.9264\n",
            "Epoch 18/20\n",
            "60000/60000 [==============================] - 1s 17us/step - loss: 0.2482 - sparse_categorical_accuracy: 0.9315 - val_loss: 0.2647 - val_sparse_categorical_accuracy: 0.9271\n",
            "Epoch 19/20\n",
            "60000/60000 [==============================] - 1s 18us/step - loss: 0.2476 - sparse_categorical_accuracy: 0.9318 - val_loss: 0.2650 - val_sparse_categorical_accuracy: 0.9255\n",
            "Epoch 20/20\n",
            "60000/60000 [==============================] - 1s 17us/step - loss: 0.2461 - sparse_categorical_accuracy: 0.9317 - val_loss: 0.2642 - val_sparse_categorical_accuracy: 0.9279\n",
            "Train on 60000 samples, validate on 10000 samples\n",
            "Epoch 1/20\n",
            "60000/60000 [==============================] - 1s 12us/step - loss: 4.0553 - sparse_categorical_accuracy: 0.1233 - val_loss: 2.5724 - val_sparse_categorical_accuracy: 0.1378\n",
            "Epoch 2/20\n",
            "60000/60000 [==============================] - 1s 11us/step - loss: 2.2968 - sparse_categorical_accuracy: 0.1811 - val_loss: 2.0662 - val_sparse_categorical_accuracy: 0.2694\n",
            "Epoch 3/20\n",
            "60000/60000 [==============================] - 1s 11us/step - loss: 1.8835 - sparse_categorical_accuracy: 0.3435 - val_loss: 1.7169 - val_sparse_categorical_accuracy: 0.4068\n",
            "Epoch 4/20\n",
            "60000/60000 [==============================] - 1s 11us/step - loss: 1.6052 - sparse_categorical_accuracy: 0.4578 - val_loss: 1.4872 - val_sparse_categorical_accuracy: 0.4989\n",
            "Epoch 5/20\n",
            "60000/60000 [==============================] - 1s 11us/step - loss: 1.4199 - sparse_categorical_accuracy: 0.5260 - val_loss: 1.3335 - val_sparse_categorical_accuracy: 0.5464\n",
            "Epoch 6/20\n",
            "60000/60000 [==============================] - 1s 11us/step - loss: 1.2925 - sparse_categorical_accuracy: 0.5748 - val_loss: 1.2258 - val_sparse_categorical_accuracy: 0.5887\n",
            "Epoch 7/20\n",
            "60000/60000 [==============================] - 1s 11us/step - loss: 1.2007 - sparse_categorical_accuracy: 0.6069 - val_loss: 1.1454 - val_sparse_categorical_accuracy: 0.6228\n",
            "Epoch 8/20\n",
            "60000/60000 [==============================] - 1s 11us/step - loss: 1.1315 - sparse_categorical_accuracy: 0.6279 - val_loss: 1.0843 - val_sparse_categorical_accuracy: 0.6385\n",
            "Epoch 9/20\n",
            "60000/60000 [==============================] - 1s 11us/step - loss: 1.0771 - sparse_categorical_accuracy: 0.6431 - val_loss: 1.0356 - val_sparse_categorical_accuracy: 0.6550\n",
            "Epoch 10/20\n",
            "60000/60000 [==============================] - 1s 11us/step - loss: 1.0336 - sparse_categorical_accuracy: 0.6572 - val_loss: 0.9960 - val_sparse_categorical_accuracy: 0.6685\n",
            "Epoch 11/20\n",
            "60000/60000 [==============================] - 1s 11us/step - loss: 0.9972 - sparse_categorical_accuracy: 0.6704 - val_loss: 0.9632 - val_sparse_categorical_accuracy: 0.6793\n",
            "Epoch 12/20\n",
            "60000/60000 [==============================] - 1s 11us/step - loss: 0.9666 - sparse_categorical_accuracy: 0.6821 - val_loss: 0.9344 - val_sparse_categorical_accuracy: 0.6928\n",
            "Epoch 13/20\n",
            "60000/60000 [==============================] - 1s 11us/step - loss: 0.9405 - sparse_categorical_accuracy: 0.6919 - val_loss: 0.9123 - val_sparse_categorical_accuracy: 0.6975\n",
            "Epoch 14/20\n",
            "60000/60000 [==============================] - 1s 11us/step - loss: 0.9179 - sparse_categorical_accuracy: 0.6995 - val_loss: 0.8892 - val_sparse_categorical_accuracy: 0.7093\n",
            "Epoch 15/20\n",
            "60000/60000 [==============================] - 1s 12us/step - loss: 0.8987 - sparse_categorical_accuracy: 0.7058 - val_loss: 0.8718 - val_sparse_categorical_accuracy: 0.7137\n",
            "Epoch 16/20\n",
            "60000/60000 [==============================] - 1s 12us/step - loss: 0.8815 - sparse_categorical_accuracy: 0.7111 - val_loss: 0.8562 - val_sparse_categorical_accuracy: 0.7175\n",
            "Epoch 17/20\n",
            "60000/60000 [==============================] - 1s 11us/step - loss: 0.8668 - sparse_categorical_accuracy: 0.7133 - val_loss: 0.8443 - val_sparse_categorical_accuracy: 0.7231\n",
            "Epoch 18/20\n",
            "60000/60000 [==============================] - 1s 12us/step - loss: 0.8536 - sparse_categorical_accuracy: 0.7177 - val_loss: 0.8308 - val_sparse_categorical_accuracy: 0.7196\n",
            "Epoch 19/20\n",
            "60000/60000 [==============================] - 1s 12us/step - loss: 0.8420 - sparse_categorical_accuracy: 0.7202 - val_loss: 0.8198 - val_sparse_categorical_accuracy: 0.7298\n",
            "Epoch 20/20\n",
            "60000/60000 [==============================] - 1s 11us/step - loss: 0.8318 - sparse_categorical_accuracy: 0.7234 - val_loss: 0.8104 - val_sparse_categorical_accuracy: 0.7296\n",
            "Done: 0\n",
            "Done: 1\n",
            "Done: 2\n",
            "Done: 3\n",
            "Done: 4\n",
            "Done: 5\n",
            "Done: 6\n",
            "Done: 7\n",
            "Done: 8\n",
            "Done: 9\n",
            "Train on 60000 samples, validate on 10000 samples\n",
            "Epoch 1/20\n",
            "60000/60000 [==============================] - 1s 19us/step - loss: 0.9322 - sparse_categorical_accuracy: 0.7368 - val_loss: 0.4666 - val_sparse_categorical_accuracy: 0.8744\n",
            "Epoch 2/20\n",
            "60000/60000 [==============================] - 1s 17us/step - loss: 0.4130 - sparse_categorical_accuracy: 0.8839 - val_loss: 0.3489 - val_sparse_categorical_accuracy: 0.9004\n",
            "Epoch 3/20\n",
            "60000/60000 [==============================] - 1s 17us/step - loss: 0.3399 - sparse_categorical_accuracy: 0.9038 - val_loss: 0.3128 - val_sparse_categorical_accuracy: 0.9113\n",
            "Epoch 4/20\n",
            "60000/60000 [==============================] - 1s 17us/step - loss: 0.3106 - sparse_categorical_accuracy: 0.9119 - val_loss: 0.2930 - val_sparse_categorical_accuracy: 0.9159\n",
            "Epoch 5/20\n",
            "60000/60000 [==============================] - 1s 17us/step - loss: 0.2955 - sparse_categorical_accuracy: 0.9172 - val_loss: 0.2863 - val_sparse_categorical_accuracy: 0.9182\n",
            "Epoch 6/20\n",
            "60000/60000 [==============================] - 1s 17us/step - loss: 0.2860 - sparse_categorical_accuracy: 0.9197 - val_loss: 0.2792 - val_sparse_categorical_accuracy: 0.9211\n",
            "Epoch 7/20\n",
            "60000/60000 [==============================] - 1s 17us/step - loss: 0.2786 - sparse_categorical_accuracy: 0.9228 - val_loss: 0.2754 - val_sparse_categorical_accuracy: 0.9234\n",
            "Epoch 8/20\n",
            "60000/60000 [==============================] - 1s 17us/step - loss: 0.2735 - sparse_categorical_accuracy: 0.9239 - val_loss: 0.2706 - val_sparse_categorical_accuracy: 0.9233\n",
            "Epoch 9/20\n",
            "60000/60000 [==============================] - 1s 17us/step - loss: 0.2691 - sparse_categorical_accuracy: 0.9252 - val_loss: 0.2685 - val_sparse_categorical_accuracy: 0.9234\n",
            "Epoch 10/20\n",
            "60000/60000 [==============================] - 1s 18us/step - loss: 0.2651 - sparse_categorical_accuracy: 0.9258 - val_loss: 0.2694 - val_sparse_categorical_accuracy: 0.9247\n",
            "Epoch 11/20\n",
            "60000/60000 [==============================] - 1s 17us/step - loss: 0.2618 - sparse_categorical_accuracy: 0.9274 - val_loss: 0.2682 - val_sparse_categorical_accuracy: 0.9231\n",
            "Epoch 12/20\n",
            "60000/60000 [==============================] - 1s 17us/step - loss: 0.2598 - sparse_categorical_accuracy: 0.9276 - val_loss: 0.2683 - val_sparse_categorical_accuracy: 0.9233\n",
            "Epoch 13/20\n",
            "60000/60000 [==============================] - 1s 17us/step - loss: 0.2574 - sparse_categorical_accuracy: 0.9286 - val_loss: 0.2673 - val_sparse_categorical_accuracy: 0.9235\n",
            "Epoch 14/20\n",
            "60000/60000 [==============================] - 1s 18us/step - loss: 0.2556 - sparse_categorical_accuracy: 0.9290 - val_loss: 0.2648 - val_sparse_categorical_accuracy: 0.9244\n",
            "Epoch 15/20\n",
            "60000/60000 [==============================] - 1s 18us/step - loss: 0.2538 - sparse_categorical_accuracy: 0.9297 - val_loss: 0.2691 - val_sparse_categorical_accuracy: 0.9228\n",
            "Epoch 16/20\n",
            "60000/60000 [==============================] - 1s 18us/step - loss: 0.2524 - sparse_categorical_accuracy: 0.9303 - val_loss: 0.2640 - val_sparse_categorical_accuracy: 0.9265\n",
            "Epoch 17/20\n",
            "60000/60000 [==============================] - 1s 17us/step - loss: 0.2509 - sparse_categorical_accuracy: 0.9310 - val_loss: 0.2641 - val_sparse_categorical_accuracy: 0.9256\n",
            "Epoch 18/20\n",
            "60000/60000 [==============================] - 1s 18us/step - loss: 0.2495 - sparse_categorical_accuracy: 0.9314 - val_loss: 0.2653 - val_sparse_categorical_accuracy: 0.9254\n",
            "Epoch 19/20\n",
            "60000/60000 [==============================] - 1s 18us/step - loss: 0.2486 - sparse_categorical_accuracy: 0.9311 - val_loss: 0.2634 - val_sparse_categorical_accuracy: 0.9262\n",
            "Epoch 20/20\n",
            "60000/60000 [==============================] - 1s 17us/step - loss: 0.2469 - sparse_categorical_accuracy: 0.9326 - val_loss: 0.2687 - val_sparse_categorical_accuracy: 0.9260\n",
            "Train on 60000 samples, validate on 10000 samples\n",
            "Epoch 1/20\n",
            "60000/60000 [==============================] - 1s 13us/step - loss: 4.6280 - sparse_categorical_accuracy: 0.0856 - val_loss: 2.7407 - val_sparse_categorical_accuracy: 0.1236\n",
            "Epoch 2/20\n",
            "60000/60000 [==============================] - 1s 12us/step - loss: 2.4745 - sparse_categorical_accuracy: 0.2045 - val_loss: 2.2393 - val_sparse_categorical_accuracy: 0.2638\n",
            "Epoch 3/20\n",
            "60000/60000 [==============================] - 1s 11us/step - loss: 2.0407 - sparse_categorical_accuracy: 0.3209 - val_loss: 1.8488 - val_sparse_categorical_accuracy: 0.3821\n",
            "Epoch 4/20\n",
            "60000/60000 [==============================] - 1s 11us/step - loss: 1.7159 - sparse_categorical_accuracy: 0.4189 - val_loss: 1.5677 - val_sparse_categorical_accuracy: 0.4775\n",
            "Epoch 5/20\n",
            "60000/60000 [==============================] - 1s 11us/step - loss: 1.4874 - sparse_categorical_accuracy: 0.5120 - val_loss: 1.3760 - val_sparse_categorical_accuracy: 0.5585\n",
            "Epoch 6/20\n",
            "60000/60000 [==============================] - 1s 11us/step - loss: 1.3293 - sparse_categorical_accuracy: 0.5771 - val_loss: 1.2437 - val_sparse_categorical_accuracy: 0.6094\n",
            "Epoch 7/20\n",
            "60000/60000 [==============================] - 1s 11us/step - loss: 1.2161 - sparse_categorical_accuracy: 0.6198 - val_loss: 1.1475 - val_sparse_categorical_accuracy: 0.6418\n",
            "Epoch 8/20\n",
            "60000/60000 [==============================] - 1s 12us/step - loss: 1.1311 - sparse_categorical_accuracy: 0.6481 - val_loss: 1.0738 - val_sparse_categorical_accuracy: 0.6692\n",
            "Epoch 9/20\n",
            "60000/60000 [==============================] - 1s 11us/step - loss: 1.0649 - sparse_categorical_accuracy: 0.6673 - val_loss: 1.0141 - val_sparse_categorical_accuracy: 0.6880\n",
            "Epoch 10/20\n",
            "60000/60000 [==============================] - 1s 11us/step - loss: 1.0110 - sparse_categorical_accuracy: 0.6838 - val_loss: 0.9665 - val_sparse_categorical_accuracy: 0.7018\n",
            "Epoch 11/20\n",
            "60000/60000 [==============================] - 1s 12us/step - loss: 0.9669 - sparse_categorical_accuracy: 0.6954 - val_loss: 0.9254 - val_sparse_categorical_accuracy: 0.7151\n",
            "Epoch 12/20\n",
            "60000/60000 [==============================] - 1s 11us/step - loss: 0.9294 - sparse_categorical_accuracy: 0.7056 - val_loss: 0.8919 - val_sparse_categorical_accuracy: 0.7285\n",
            "Epoch 13/20\n",
            "60000/60000 [==============================] - 1s 12us/step - loss: 0.8974 - sparse_categorical_accuracy: 0.7139 - val_loss: 0.8624 - val_sparse_categorical_accuracy: 0.7351\n",
            "Epoch 14/20\n",
            "60000/60000 [==============================] - 1s 11us/step - loss: 0.8699 - sparse_categorical_accuracy: 0.7232 - val_loss: 0.8364 - val_sparse_categorical_accuracy: 0.7418\n",
            "Epoch 15/20\n",
            "60000/60000 [==============================] - 1s 12us/step - loss: 0.8459 - sparse_categorical_accuracy: 0.7308 - val_loss: 0.8147 - val_sparse_categorical_accuracy: 0.7480\n",
            "Epoch 16/20\n",
            "60000/60000 [==============================] - 1s 12us/step - loss: 0.8249 - sparse_categorical_accuracy: 0.7388 - val_loss: 0.7971 - val_sparse_categorical_accuracy: 0.7508\n",
            "Epoch 17/20\n",
            "60000/60000 [==============================] - 1s 11us/step - loss: 0.8066 - sparse_categorical_accuracy: 0.7431 - val_loss: 0.7789 - val_sparse_categorical_accuracy: 0.7583\n",
            "Epoch 18/20\n",
            "60000/60000 [==============================] - 1s 12us/step - loss: 0.7904 - sparse_categorical_accuracy: 0.7491 - val_loss: 0.7636 - val_sparse_categorical_accuracy: 0.7651\n",
            "Epoch 19/20\n",
            "60000/60000 [==============================] - 1s 12us/step - loss: 0.7759 - sparse_categorical_accuracy: 0.7541 - val_loss: 0.7505 - val_sparse_categorical_accuracy: 0.7667\n",
            "Epoch 20/20\n",
            "60000/60000 [==============================] - 1s 11us/step - loss: 0.7634 - sparse_categorical_accuracy: 0.7569 - val_loss: 0.7388 - val_sparse_categorical_accuracy: 0.7707\n",
            "Done: 0\n",
            "Done: 1\n",
            "Done: 2\n",
            "Done: 3\n",
            "Done: 4\n",
            "Done: 5\n",
            "Done: 6\n",
            "Done: 7\n",
            "Done: 8\n",
            "Done: 9\n",
            "Train on 60000 samples, validate on 10000 samples\n",
            "Epoch 1/20\n",
            "60000/60000 [==============================] - 1s 19us/step - loss: 0.8431 - sparse_categorical_accuracy: 0.7742 - val_loss: 0.4188 - val_sparse_categorical_accuracy: 0.8904\n",
            "Epoch 2/20\n",
            "60000/60000 [==============================] - 1s 16us/step - loss: 0.3752 - sparse_categorical_accuracy: 0.8975 - val_loss: 0.3220 - val_sparse_categorical_accuracy: 0.9103\n",
            "Epoch 3/20\n",
            "60000/60000 [==============================] - 1s 17us/step - loss: 0.3188 - sparse_categorical_accuracy: 0.9107 - val_loss: 0.2977 - val_sparse_categorical_accuracy: 0.9149\n",
            "Epoch 4/20\n",
            "60000/60000 [==============================] - 1s 17us/step - loss: 0.2967 - sparse_categorical_accuracy: 0.9173 - val_loss: 0.2891 - val_sparse_categorical_accuracy: 0.9198\n",
            "Epoch 5/20\n",
            "60000/60000 [==============================] - 1s 17us/step - loss: 0.2850 - sparse_categorical_accuracy: 0.9199 - val_loss: 0.2768 - val_sparse_categorical_accuracy: 0.9215\n",
            "Epoch 6/20\n",
            "60000/60000 [==============================] - 1s 17us/step - loss: 0.2765 - sparse_categorical_accuracy: 0.9222 - val_loss: 0.2729 - val_sparse_categorical_accuracy: 0.9234\n",
            "Epoch 7/20\n",
            "60000/60000 [==============================] - 1s 17us/step - loss: 0.2716 - sparse_categorical_accuracy: 0.9251 - val_loss: 0.2698 - val_sparse_categorical_accuracy: 0.9249\n",
            "Epoch 8/20\n",
            "60000/60000 [==============================] - 1s 17us/step - loss: 0.2665 - sparse_categorical_accuracy: 0.9257 - val_loss: 0.2651 - val_sparse_categorical_accuracy: 0.9248\n",
            "Epoch 9/20\n",
            "60000/60000 [==============================] - 1s 17us/step - loss: 0.2630 - sparse_categorical_accuracy: 0.9268 - val_loss: 0.2679 - val_sparse_categorical_accuracy: 0.9245\n",
            "Epoch 10/20\n",
            "60000/60000 [==============================] - 1s 18us/step - loss: 0.2605 - sparse_categorical_accuracy: 0.9274 - val_loss: 0.2694 - val_sparse_categorical_accuracy: 0.9256\n",
            "Epoch 11/20\n",
            "60000/60000 [==============================] - 1s 17us/step - loss: 0.2579 - sparse_categorical_accuracy: 0.9283 - val_loss: 0.2674 - val_sparse_categorical_accuracy: 0.9255\n",
            "Epoch 12/20\n",
            "60000/60000 [==============================] - 1s 17us/step - loss: 0.2557 - sparse_categorical_accuracy: 0.9297 - val_loss: 0.2636 - val_sparse_categorical_accuracy: 0.9267\n",
            "Epoch 13/20\n",
            "60000/60000 [==============================] - 1s 17us/step - loss: 0.2537 - sparse_categorical_accuracy: 0.9299 - val_loss: 0.2652 - val_sparse_categorical_accuracy: 0.9261\n",
            "Epoch 14/20\n",
            "60000/60000 [==============================] - 1s 17us/step - loss: 0.2520 - sparse_categorical_accuracy: 0.9312 - val_loss: 0.2643 - val_sparse_categorical_accuracy: 0.9255\n",
            "Epoch 15/20\n",
            "60000/60000 [==============================] - 1s 17us/step - loss: 0.2507 - sparse_categorical_accuracy: 0.9311 - val_loss: 0.2631 - val_sparse_categorical_accuracy: 0.9260\n",
            "Epoch 16/20\n",
            "60000/60000 [==============================] - 1s 18us/step - loss: 0.2490 - sparse_categorical_accuracy: 0.9311 - val_loss: 0.2652 - val_sparse_categorical_accuracy: 0.9262\n",
            "Epoch 17/20\n",
            "60000/60000 [==============================] - 1s 17us/step - loss: 0.2486 - sparse_categorical_accuracy: 0.9314 - val_loss: 0.2690 - val_sparse_categorical_accuracy: 0.9243\n",
            "Epoch 18/20\n",
            "60000/60000 [==============================] - 1s 17us/step - loss: 0.2474 - sparse_categorical_accuracy: 0.9316 - val_loss: 0.2650 - val_sparse_categorical_accuracy: 0.9272\n",
            "Epoch 19/20\n",
            "60000/60000 [==============================] - 1s 17us/step - loss: 0.2457 - sparse_categorical_accuracy: 0.9321 - val_loss: 0.2655 - val_sparse_categorical_accuracy: 0.9269\n",
            "Epoch 20/20\n",
            "60000/60000 [==============================] - 1s 17us/step - loss: 0.2447 - sparse_categorical_accuracy: 0.9326 - val_loss: 0.2634 - val_sparse_categorical_accuracy: 0.9281\n",
            "Train on 60000 samples, validate on 10000 samples\n",
            "Epoch 1/20\n",
            "60000/60000 [==============================] - 1s 12us/step - loss: 3.6442 - sparse_categorical_accuracy: 0.1059 - val_loss: 2.5985 - val_sparse_categorical_accuracy: 0.1076\n",
            "Epoch 2/20\n",
            "60000/60000 [==============================] - 1s 11us/step - loss: 2.3708 - sparse_categorical_accuracy: 0.1383 - val_loss: 2.0876 - val_sparse_categorical_accuracy: 0.1968\n",
            "Epoch 3/20\n",
            "60000/60000 [==============================] - 1s 13us/step - loss: 1.9297 - sparse_categorical_accuracy: 0.2366 - val_loss: 1.7195 - val_sparse_categorical_accuracy: 0.3073\n",
            "Epoch 4/20\n",
            "60000/60000 [==============================] - 1s 13us/step - loss: 1.6200 - sparse_categorical_accuracy: 0.3850 - val_loss: 1.4671 - val_sparse_categorical_accuracy: 0.4931\n",
            "Epoch 5/20\n",
            "60000/60000 [==============================] - 1s 13us/step - loss: 1.4064 - sparse_categorical_accuracy: 0.5261 - val_loss: 1.2925 - val_sparse_categorical_accuracy: 0.5995\n",
            "Epoch 6/20\n",
            "60000/60000 [==============================] - 1s 13us/step - loss: 1.2563 - sparse_categorical_accuracy: 0.6084 - val_loss: 1.1700 - val_sparse_categorical_accuracy: 0.6534\n",
            "Epoch 7/20\n",
            "60000/60000 [==============================] - 1s 13us/step - loss: 1.1468 - sparse_categorical_accuracy: 0.6554 - val_loss: 1.0779 - val_sparse_categorical_accuracy: 0.6873\n",
            "Epoch 8/20\n",
            "60000/60000 [==============================] - 1s 13us/step - loss: 1.0640 - sparse_categorical_accuracy: 0.6864 - val_loss: 1.0073 - val_sparse_categorical_accuracy: 0.7073\n",
            "Epoch 9/20\n",
            "60000/60000 [==============================] - 1s 13us/step - loss: 1.0002 - sparse_categorical_accuracy: 0.7066 - val_loss: 0.9518 - val_sparse_categorical_accuracy: 0.7255\n",
            "Epoch 10/20\n",
            "60000/60000 [==============================] - 1s 13us/step - loss: 0.9493 - sparse_categorical_accuracy: 0.7213 - val_loss: 0.9077 - val_sparse_categorical_accuracy: 0.7372\n",
            "Epoch 11/20\n",
            "60000/60000 [==============================] - 1s 13us/step - loss: 0.9078 - sparse_categorical_accuracy: 0.7333 - val_loss: 0.8711 - val_sparse_categorical_accuracy: 0.7472\n",
            "Epoch 12/20\n",
            "60000/60000 [==============================] - 1s 13us/step - loss: 0.8733 - sparse_categorical_accuracy: 0.7410 - val_loss: 0.8392 - val_sparse_categorical_accuracy: 0.7581\n",
            "Epoch 13/20\n",
            "60000/60000 [==============================] - 1s 13us/step - loss: 0.8445 - sparse_categorical_accuracy: 0.7493 - val_loss: 0.8134 - val_sparse_categorical_accuracy: 0.7583\n",
            "Epoch 14/20\n",
            "60000/60000 [==============================] - 1s 13us/step - loss: 0.8197 - sparse_categorical_accuracy: 0.7549 - val_loss: 0.7927 - val_sparse_categorical_accuracy: 0.7678\n",
            "Epoch 15/20\n",
            "60000/60000 [==============================] - 1s 13us/step - loss: 0.7986 - sparse_categorical_accuracy: 0.7604 - val_loss: 0.7726 - val_sparse_categorical_accuracy: 0.7679\n",
            "Epoch 16/20\n",
            "60000/60000 [==============================] - 1s 13us/step - loss: 0.7806 - sparse_categorical_accuracy: 0.7651 - val_loss: 0.7564 - val_sparse_categorical_accuracy: 0.7686\n",
            "Epoch 17/20\n",
            "60000/60000 [==============================] - 1s 11us/step - loss: 0.7641 - sparse_categorical_accuracy: 0.7684 - val_loss: 0.7411 - val_sparse_categorical_accuracy: 0.7793\n",
            "Epoch 18/20\n",
            "60000/60000 [==============================] - 1s 11us/step - loss: 0.7502 - sparse_categorical_accuracy: 0.7726 - val_loss: 0.7285 - val_sparse_categorical_accuracy: 0.7775\n",
            "Epoch 19/20\n",
            "60000/60000 [==============================] - 1s 11us/step - loss: 0.7378 - sparse_categorical_accuracy: 0.7749 - val_loss: 0.7163 - val_sparse_categorical_accuracy: 0.7827\n",
            "Epoch 20/20\n",
            "60000/60000 [==============================] - 1s 11us/step - loss: 0.7265 - sparse_categorical_accuracy: 0.7774 - val_loss: 0.7066 - val_sparse_categorical_accuracy: 0.7875\n",
            "Done: 0\n",
            "Done: 1\n",
            "Done: 2\n",
            "Done: 3\n",
            "Done: 4\n",
            "Done: 5\n",
            "Done: 6\n",
            "Done: 7\n",
            "Done: 8\n",
            "Done: 9\n",
            "Train on 60000 samples, validate on 10000 samples\n",
            "Epoch 1/20\n",
            "60000/60000 [==============================] - 1s 19us/step - loss: 0.8345 - sparse_categorical_accuracy: 0.7651 - val_loss: 0.4093 - val_sparse_categorical_accuracy: 0.8902\n",
            "Epoch 2/20\n",
            "60000/60000 [==============================] - 1s 17us/step - loss: 0.3673 - sparse_categorical_accuracy: 0.8973 - val_loss: 0.3221 - val_sparse_categorical_accuracy: 0.9108\n",
            "Epoch 3/20\n",
            "60000/60000 [==============================] - 1s 18us/step - loss: 0.3159 - sparse_categorical_accuracy: 0.9110 - val_loss: 0.2974 - val_sparse_categorical_accuracy: 0.9175\n",
            "Epoch 4/20\n",
            "60000/60000 [==============================] - 1s 17us/step - loss: 0.2950 - sparse_categorical_accuracy: 0.9170 - val_loss: 0.2856 - val_sparse_categorical_accuracy: 0.9209\n",
            "Epoch 5/20\n",
            "60000/60000 [==============================] - 1s 18us/step - loss: 0.2835 - sparse_categorical_accuracy: 0.9206 - val_loss: 0.2761 - val_sparse_categorical_accuracy: 0.9229\n",
            "Epoch 6/20\n",
            "60000/60000 [==============================] - 1s 17us/step - loss: 0.2760 - sparse_categorical_accuracy: 0.9223 - val_loss: 0.2735 - val_sparse_categorical_accuracy: 0.9235\n",
            "Epoch 7/20\n",
            "60000/60000 [==============================] - 1s 16us/step - loss: 0.2704 - sparse_categorical_accuracy: 0.9248 - val_loss: 0.2709 - val_sparse_categorical_accuracy: 0.9249\n",
            "Epoch 8/20\n",
            "60000/60000 [==============================] - 1s 16us/step - loss: 0.2662 - sparse_categorical_accuracy: 0.9255 - val_loss: 0.2686 - val_sparse_categorical_accuracy: 0.9239\n",
            "Epoch 9/20\n",
            "60000/60000 [==============================] - 1s 16us/step - loss: 0.2624 - sparse_categorical_accuracy: 0.9272 - val_loss: 0.2688 - val_sparse_categorical_accuracy: 0.9236\n",
            "Epoch 10/20\n",
            "60000/60000 [==============================] - 1s 17us/step - loss: 0.2596 - sparse_categorical_accuracy: 0.9281 - val_loss: 0.2643 - val_sparse_categorical_accuracy: 0.9254\n",
            "Epoch 11/20\n",
            "60000/60000 [==============================] - 1s 17us/step - loss: 0.2572 - sparse_categorical_accuracy: 0.9287 - val_loss: 0.2672 - val_sparse_categorical_accuracy: 0.9259\n",
            "Epoch 12/20\n",
            "60000/60000 [==============================] - 1s 17us/step - loss: 0.2550 - sparse_categorical_accuracy: 0.9290 - val_loss: 0.2678 - val_sparse_categorical_accuracy: 0.9256\n",
            "Epoch 13/20\n",
            "60000/60000 [==============================] - 1s 16us/step - loss: 0.2534 - sparse_categorical_accuracy: 0.9302 - val_loss: 0.2655 - val_sparse_categorical_accuracy: 0.9263\n",
            "Epoch 14/20\n",
            "60000/60000 [==============================] - 1s 16us/step - loss: 0.2516 - sparse_categorical_accuracy: 0.9301 - val_loss: 0.2644 - val_sparse_categorical_accuracy: 0.9250\n",
            "Epoch 15/20\n",
            "60000/60000 [==============================] - 1s 17us/step - loss: 0.2503 - sparse_categorical_accuracy: 0.9309 - val_loss: 0.2636 - val_sparse_categorical_accuracy: 0.9277\n",
            "Epoch 16/20\n",
            "60000/60000 [==============================] - 1s 16us/step - loss: 0.2487 - sparse_categorical_accuracy: 0.9316 - val_loss: 0.2635 - val_sparse_categorical_accuracy: 0.9270\n",
            "Epoch 17/20\n",
            "60000/60000 [==============================] - 1s 17us/step - loss: 0.2474 - sparse_categorical_accuracy: 0.9318 - val_loss: 0.2644 - val_sparse_categorical_accuracy: 0.9260\n",
            "Epoch 18/20\n",
            "60000/60000 [==============================] - 1s 17us/step - loss: 0.2464 - sparse_categorical_accuracy: 0.9322 - val_loss: 0.2658 - val_sparse_categorical_accuracy: 0.9254\n",
            "Epoch 19/20\n",
            "60000/60000 [==============================] - 1s 17us/step - loss: 0.2457 - sparse_categorical_accuracy: 0.9329 - val_loss: 0.2651 - val_sparse_categorical_accuracy: 0.9269\n",
            "Epoch 20/20\n",
            "60000/60000 [==============================] - 1s 17us/step - loss: 0.2448 - sparse_categorical_accuracy: 0.9330 - val_loss: 0.2666 - val_sparse_categorical_accuracy: 0.9260\n",
            "Train on 60000 samples, validate on 10000 samples\n",
            "Epoch 1/20\n",
            "60000/60000 [==============================] - 1s 12us/step - loss: 3.0707 - sparse_categorical_accuracy: 0.1681 - val_loss: 2.1866 - val_sparse_categorical_accuracy: 0.2016\n",
            "Epoch 2/20\n",
            "60000/60000 [==============================] - 1s 12us/step - loss: 1.9959 - sparse_categorical_accuracy: 0.2707 - val_loss: 1.8021 - val_sparse_categorical_accuracy: 0.3392\n",
            "Epoch 3/20\n",
            "60000/60000 [==============================] - 1s 12us/step - loss: 1.6782 - sparse_categorical_accuracy: 0.3837 - val_loss: 1.5338 - val_sparse_categorical_accuracy: 0.4419\n",
            "Epoch 4/20\n",
            "60000/60000 [==============================] - 1s 12us/step - loss: 1.4530 - sparse_categorical_accuracy: 0.4778 - val_loss: 1.3442 - val_sparse_categorical_accuracy: 0.5341\n",
            "Epoch 5/20\n",
            "60000/60000 [==============================] - 1s 12us/step - loss: 1.2904 - sparse_categorical_accuracy: 0.5701 - val_loss: 1.2044 - val_sparse_categorical_accuracy: 0.6169\n",
            "Epoch 6/20\n",
            "60000/60000 [==============================] - 1s 12us/step - loss: 1.1717 - sparse_categorical_accuracy: 0.6316 - val_loss: 1.1041 - val_sparse_categorical_accuracy: 0.6612\n",
            "Epoch 7/20\n",
            "60000/60000 [==============================] - 1s 11us/step - loss: 1.0835 - sparse_categorical_accuracy: 0.6678 - val_loss: 1.0276 - val_sparse_categorical_accuracy: 0.6892\n",
            "Epoch 8/20\n",
            "60000/60000 [==============================] - 1s 11us/step - loss: 1.0164 - sparse_categorical_accuracy: 0.6894 - val_loss: 0.9694 - val_sparse_categorical_accuracy: 0.7079\n",
            "Epoch 9/20\n",
            "60000/60000 [==============================] - 1s 12us/step - loss: 0.9631 - sparse_categorical_accuracy: 0.7043 - val_loss: 0.9219 - val_sparse_categorical_accuracy: 0.7228\n",
            "Epoch 10/20\n",
            "60000/60000 [==============================] - 1s 12us/step - loss: 0.9203 - sparse_categorical_accuracy: 0.7163 - val_loss: 0.8829 - val_sparse_categorical_accuracy: 0.7339\n",
            "Epoch 11/20\n",
            "60000/60000 [==============================] - 1s 11us/step - loss: 0.8847 - sparse_categorical_accuracy: 0.7269 - val_loss: 0.8507 - val_sparse_categorical_accuracy: 0.7412\n",
            "Epoch 12/20\n",
            "60000/60000 [==============================] - 1s 11us/step - loss: 0.8547 - sparse_categorical_accuracy: 0.7352 - val_loss: 0.8244 - val_sparse_categorical_accuracy: 0.7492\n",
            "Epoch 13/20\n",
            "60000/60000 [==============================] - 1s 11us/step - loss: 0.8293 - sparse_categorical_accuracy: 0.7436 - val_loss: 0.8003 - val_sparse_categorical_accuracy: 0.7538\n",
            "Epoch 14/20\n",
            "60000/60000 [==============================] - 1s 12us/step - loss: 0.8072 - sparse_categorical_accuracy: 0.7493 - val_loss: 0.7818 - val_sparse_categorical_accuracy: 0.7620\n",
            "Epoch 15/20\n",
            "60000/60000 [==============================] - 1s 11us/step - loss: 0.7878 - sparse_categorical_accuracy: 0.7554 - val_loss: 0.7616 - val_sparse_categorical_accuracy: 0.7685\n",
            "Epoch 16/20\n",
            "60000/60000 [==============================] - 1s 11us/step - loss: 0.7710 - sparse_categorical_accuracy: 0.7596 - val_loss: 0.7467 - val_sparse_categorical_accuracy: 0.7712\n",
            "Epoch 17/20\n",
            "60000/60000 [==============================] - 1s 11us/step - loss: 0.7561 - sparse_categorical_accuracy: 0.7644 - val_loss: 0.7339 - val_sparse_categorical_accuracy: 0.7732\n",
            "Epoch 18/20\n",
            "60000/60000 [==============================] - 1s 12us/step - loss: 0.7428 - sparse_categorical_accuracy: 0.7685 - val_loss: 0.7184 - val_sparse_categorical_accuracy: 0.7816\n",
            "Epoch 19/20\n",
            "60000/60000 [==============================] - 1s 12us/step - loss: 0.7308 - sparse_categorical_accuracy: 0.7722 - val_loss: 0.7084 - val_sparse_categorical_accuracy: 0.7825\n",
            "Epoch 20/20\n",
            "60000/60000 [==============================] - 1s 12us/step - loss: 0.7204 - sparse_categorical_accuracy: 0.7742 - val_loss: 0.7009 - val_sparse_categorical_accuracy: 0.7801\n"
          ],
          "name": "stdout"
        }
      ]
    },
    {
      "cell_type": "code",
      "metadata": {
        "id": "RkEeDI_vcFV1",
        "colab_type": "code",
        "colab": {}
      },
      "source": [
        "max_standard_val_accuracy = [i[-1] for i in standard_val_accuracies]\n",
        "max_bio_val_accuracy = [i[-1] for i in bio_val_accuracies]"
      ],
      "execution_count": null,
      "outputs": []
    },
    {
      "cell_type": "code",
      "metadata": {
        "id": "CmVu2TZtd_dq",
        "colab_type": "code",
        "colab": {
          "base_uri": "https://localhost:8080/",
          "height": 621
        },
        "outputId": "35c96cd7-a469-4612-dc90-d42141583c9b"
      },
      "source": [
        "plt.figure(figsize=(10, 10))\n",
        "plt.plot(fib, max_standard_val_accuracy, label=\"ANN_VAL_ACCURACY\")\n",
        "plt.plot(fib, max_bio_val_accuracy, label=\"BIO_VAL_ACCURACY\")\n",
        "plt.xlabel(\"# hidden units\")\n",
        "plt.ylabel(\"Validation Accuracy\")\n",
        "plt.title(\"Hidden Units vs. Validation Accuracy\")\n",
        "plt.legend()\n",
        "plt.show()"
      ],
      "execution_count": null,
      "outputs": [
        {
          "output_type": "display_data",
          "data": {
            "image/png": "[encoded data removed]",
            "text/plain": [
              "<Figure size 720x720 with 1 Axes>"
            ]
          },
          "metadata": {
            "tags": [],
            "needs_background": "light"
          }
        }
      ]
    },
    {
      "cell_type": "code",
      "metadata": {
        "id": "4kV3eNC1iylq",
        "colab_type": "code",
        "colab": {
          "base_uri": "https://localhost:8080/",
          "height": 1000
        },
        "outputId": "52893dd0-6563-49cb-c25a-a1b2fd014b38"
      },
      "source": [
        "random_matrix = np.random.normal(0, 1, size=(1000, 784))\n",
        "random_matrix_mnist_train_x = torch.mm(mnist_train_x, torch.tensor(random_matrix.T, dtype=torch.float))\n",
        "random_matrix_mnist_test_x = torch.mm(mnist_test_x, torch.tensor(random_matrix.T, dtype=torch.float))\n",
        "                                      \n",
        "\n",
        "random_model = keras.Sequential([                   \n",
        "    keras.layers.Dense(10, input_shape=(1000, ), activation=\"softmax\")\n",
        "])\n",
        "random_model.compile(optimizer=\"adam\", loss=\"sparse_categorical_crossentropy\", metrics=[\"sparse_categorical_accuracy\"])\n",
        "history_random = random_model.fit(random_matrix_mnist_train_x, mnist_train_y, batch_size=256, epochs=20, validation_data=(random_matrix_mnist_test_x, mnist_test_y))\n",
        "\n",
        "model = keras.Sequential([\n",
        "      keras.layers.Dense(1000, input_shape=(28*28,)),                   \n",
        "      keras.layers.Dense(10, activation=\"softmax\")\n",
        "  ])\n",
        "model.compile(optimizer=\"adam\", loss=\"sparse_categorical_crossentropy\", metrics=[\"sparse_categorical_accuracy\"])\n",
        "history_standard = model.fit(mnist_train_x, mnist_train_y, batch_size=256, epochs=20, validation_data=(mnist_test_x, mnist_test_y))"
      ],
      "execution_count": null,
      "outputs": [
        {
          "output_type": "stream",
          "text": [
            "Train on 60000 samples, validate on 10000 samples\n",
            "Epoch 1/20\n",
            "60000/60000 [==============================] - 1s 15us/step - loss: 1.5210 - sparse_categorical_accuracy: 0.8138 - val_loss: 0.6690 - val_sparse_categorical_accuracy: 0.8798\n",
            "Epoch 2/20\n",
            "60000/60000 [==============================] - 1s 14us/step - loss: 0.5985 - sparse_categorical_accuracy: 0.8835 - val_loss: 0.5474 - val_sparse_categorical_accuracy: 0.8895\n",
            "Epoch 3/20\n",
            "60000/60000 [==============================] - 1s 14us/step - loss: 0.5147 - sparse_categorical_accuracy: 0.8885 - val_loss: 0.5624 - val_sparse_categorical_accuracy: 0.8776\n",
            "Epoch 4/20\n",
            "60000/60000 [==============================] - 1s 14us/step - loss: 0.4827 - sparse_categorical_accuracy: 0.8924 - val_loss: 0.5052 - val_sparse_categorical_accuracy: 0.8882\n",
            "Epoch 5/20\n",
            "60000/60000 [==============================] - 1s 14us/step - loss: 0.4577 - sparse_categorical_accuracy: 0.8960 - val_loss: 0.4415 - val_sparse_categorical_accuracy: 0.9006\n",
            "Epoch 6/20\n",
            "60000/60000 [==============================] - 1s 14us/step - loss: 0.4330 - sparse_categorical_accuracy: 0.8992 - val_loss: 0.4851 - val_sparse_categorical_accuracy: 0.8883\n",
            "Epoch 7/20\n",
            "60000/60000 [==============================] - 1s 14us/step - loss: 0.4439 - sparse_categorical_accuracy: 0.8968 - val_loss: 0.4215 - val_sparse_categorical_accuracy: 0.9050\n",
            "Epoch 8/20\n",
            "60000/60000 [==============================] - 1s 14us/step - loss: 0.4369 - sparse_categorical_accuracy: 0.8967 - val_loss: 0.4534 - val_sparse_categorical_accuracy: 0.8989\n",
            "Epoch 9/20\n",
            "60000/60000 [==============================] - 1s 14us/step - loss: 0.4446 - sparse_categorical_accuracy: 0.8976 - val_loss: 0.4403 - val_sparse_categorical_accuracy: 0.9056\n",
            "Epoch 10/20\n",
            "60000/60000 [==============================] - 1s 14us/step - loss: 0.4205 - sparse_categorical_accuracy: 0.9012 - val_loss: 0.4486 - val_sparse_categorical_accuracy: 0.9031\n",
            "Epoch 11/20\n",
            "60000/60000 [==============================] - 1s 14us/step - loss: 0.4147 - sparse_categorical_accuracy: 0.9018 - val_loss: 0.4272 - val_sparse_categorical_accuracy: 0.9046\n",
            "Epoch 12/20\n",
            "60000/60000 [==============================] - 1s 13us/step - loss: 0.4149 - sparse_categorical_accuracy: 0.9020 - val_loss: 0.4419 - val_sparse_categorical_accuracy: 0.9010\n",
            "Epoch 13/20\n",
            "60000/60000 [==============================] - 1s 14us/step - loss: 0.4032 - sparse_categorical_accuracy: 0.9041 - val_loss: 0.4506 - val_sparse_categorical_accuracy: 0.8995\n",
            "Epoch 14/20\n",
            "60000/60000 [==============================] - 1s 14us/step - loss: 0.4138 - sparse_categorical_accuracy: 0.9012 - val_loss: 0.4267 - val_sparse_categorical_accuracy: 0.9050\n",
            "Epoch 15/20\n",
            "60000/60000 [==============================] - 1s 14us/step - loss: 0.4099 - sparse_categorical_accuracy: 0.9015 - val_loss: 0.4766 - val_sparse_categorical_accuracy: 0.8889\n",
            "Epoch 16/20\n",
            "60000/60000 [==============================] - 1s 14us/step - loss: 0.4205 - sparse_categorical_accuracy: 0.9022 - val_loss: 0.4922 - val_sparse_categorical_accuracy: 0.8883\n",
            "Epoch 17/20\n",
            "60000/60000 [==============================] - 1s 13us/step - loss: 0.3949 - sparse_categorical_accuracy: 0.9048 - val_loss: 0.4098 - val_sparse_categorical_accuracy: 0.9080\n",
            "Epoch 18/20\n",
            "60000/60000 [==============================] - 1s 14us/step - loss: 0.4011 - sparse_categorical_accuracy: 0.9036 - val_loss: 0.4161 - val_sparse_categorical_accuracy: 0.9113\n",
            "Epoch 19/20\n",
            "60000/60000 [==============================] - 1s 14us/step - loss: 0.4085 - sparse_categorical_accuracy: 0.9035 - val_loss: 0.4178 - val_sparse_categorical_accuracy: 0.9095\n",
            "Epoch 20/20\n",
            "60000/60000 [==============================] - 1s 14us/step - loss: 0.3951 - sparse_categorical_accuracy: 0.9050 - val_loss: 0.4534 - val_sparse_categorical_accuracy: 0.9001\n",
            "Train on 60000 samples, validate on 10000 samples\n",
            "Epoch 1/20\n",
            "60000/60000 [==============================] - 1s 22us/step - loss: 0.3756 - sparse_categorical_accuracy: 0.8914 - val_loss: 0.3003 - val_sparse_categorical_accuracy: 0.9157\n",
            "Epoch 2/20\n",
            "60000/60000 [==============================] - 1s 21us/step - loss: 0.2940 - sparse_categorical_accuracy: 0.9190 - val_loss: 0.2974 - val_sparse_categorical_accuracy: 0.9124\n",
            "Epoch 3/20\n",
            "60000/60000 [==============================] - 1s 21us/step - loss: 0.2832 - sparse_categorical_accuracy: 0.9199 - val_loss: 0.2883 - val_sparse_categorical_accuracy: 0.9227\n",
            "Epoch 4/20\n",
            "60000/60000 [==============================] - 1s 22us/step - loss: 0.2749 - sparse_categorical_accuracy: 0.9237 - val_loss: 0.2828 - val_sparse_categorical_accuracy: 0.9210\n",
            "Epoch 5/20\n",
            "60000/60000 [==============================] - 1s 22us/step - loss: 0.2718 - sparse_categorical_accuracy: 0.9239 - val_loss: 0.2853 - val_sparse_categorical_accuracy: 0.9206\n",
            "Epoch 6/20\n",
            "60000/60000 [==============================] - 1s 21us/step - loss: 0.2683 - sparse_categorical_accuracy: 0.9253 - val_loss: 0.2818 - val_sparse_categorical_accuracy: 0.9242\n",
            "Epoch 7/20\n",
            "60000/60000 [==============================] - 1s 21us/step - loss: 0.2697 - sparse_categorical_accuracy: 0.9251 - val_loss: 0.2863 - val_sparse_categorical_accuracy: 0.9186\n",
            "Epoch 8/20\n",
            "60000/60000 [==============================] - 1s 21us/step - loss: 0.2655 - sparse_categorical_accuracy: 0.9259 - val_loss: 0.2780 - val_sparse_categorical_accuracy: 0.9251\n",
            "Epoch 9/20\n",
            "60000/60000 [==============================] - 1s 22us/step - loss: 0.2635 - sparse_categorical_accuracy: 0.9262 - val_loss: 0.2767 - val_sparse_categorical_accuracy: 0.9250\n",
            "Epoch 10/20\n",
            "60000/60000 [==============================] - 1s 21us/step - loss: 0.2626 - sparse_categorical_accuracy: 0.9264 - val_loss: 0.2953 - val_sparse_categorical_accuracy: 0.9168\n",
            "Epoch 11/20\n",
            "60000/60000 [==============================] - 1s 21us/step - loss: 0.2606 - sparse_categorical_accuracy: 0.9267 - val_loss: 0.2880 - val_sparse_categorical_accuracy: 0.9206\n",
            "Epoch 12/20\n",
            "60000/60000 [==============================] - 1s 22us/step - loss: 0.2601 - sparse_categorical_accuracy: 0.9271 - val_loss: 0.2872 - val_sparse_categorical_accuracy: 0.9229\n",
            "Epoch 13/20\n",
            "60000/60000 [==============================] - 1s 21us/step - loss: 0.2571 - sparse_categorical_accuracy: 0.9288 - val_loss: 0.2962 - val_sparse_categorical_accuracy: 0.9198\n",
            "Epoch 14/20\n",
            "60000/60000 [==============================] - 1s 22us/step - loss: 0.2566 - sparse_categorical_accuracy: 0.9283 - val_loss: 0.2885 - val_sparse_categorical_accuracy: 0.9233\n",
            "Epoch 15/20\n",
            "60000/60000 [==============================] - 1s 22us/step - loss: 0.2554 - sparse_categorical_accuracy: 0.9285 - val_loss: 0.2854 - val_sparse_categorical_accuracy: 0.9242\n",
            "Epoch 16/20\n",
            "60000/60000 [==============================] - 1s 22us/step - loss: 0.2564 - sparse_categorical_accuracy: 0.9277 - val_loss: 0.2916 - val_sparse_categorical_accuracy: 0.9222\n",
            "Epoch 17/20\n",
            "60000/60000 [==============================] - 1s 22us/step - loss: 0.2536 - sparse_categorical_accuracy: 0.9296 - val_loss: 0.2927 - val_sparse_categorical_accuracy: 0.9238\n",
            "Epoch 18/20\n",
            "60000/60000 [==============================] - 1s 22us/step - loss: 0.2524 - sparse_categorical_accuracy: 0.9295 - val_loss: 0.2772 - val_sparse_categorical_accuracy: 0.9266\n",
            "Epoch 19/20\n",
            "60000/60000 [==============================] - 1s 21us/step - loss: 0.2544 - sparse_categorical_accuracy: 0.9282 - val_loss: 0.2909 - val_sparse_categorical_accuracy: 0.9219\n",
            "Epoch 20/20\n",
            "60000/60000 [==============================] - 1s 22us/step - loss: 0.2508 - sparse_categorical_accuracy: 0.9302 - val_loss: 0.2981 - val_sparse_categorical_accuracy: 0.9178\n"
          ],
          "name": "stdout"
        }
      ]
    },
    {
      "cell_type": "code",
      "metadata": {
        "id": "LoyOYSVyjetS",
        "colab_type": "code",
        "colab": {
          "base_uri": "https://localhost:8080/",
          "height": 483
        },
        "outputId": "63caf113-5103-4e77-f44d-1653de2382c1"
      },
      "source": [
        "fig = plt.figure(figsize=(8, 8))\n",
        "for metric in [\"sparse_categorical_accuracy\", \"val_sparse_categorical_accuracy\"]:\n",
        "  plt.plot(history_standard.history[metric], label=\"ANN_\"+metric)\n",
        "  plt.plot(history_random.history[metric], label=\"RANDOM_\"+metric)\n",
        "plt.legend()\n",
        "plt.ylabel(\"Accuracy\")\n",
        "plt.show()"
      ],
      "execution_count": null,
      "outputs": [
        {
          "output_type": "display_data",
          "data": {
            "image/png": "[encoded data removed]",
            "text/plain": [
              "<Figure size 576x576 with 1 Axes>"
            ]
          },
          "metadata": {
            "tags": [],
            "needs_background": "light"
          }
        }
      ]
    },
    {
      "cell_type": "code",
      "metadata": {
        "id": "wewkgf5Tl8jM",
        "colab_type": "code",
        "colab": {
          "base_uri": "https://localhost:8080/",
          "height": 1000
        },
        "outputId": "a3997395-fe0a-4e77-e1fa-320353469618"
      },
      "source": [
        "mnist_weights_tiny, iteration = train_and_animate(mnist_train_x, 2, 5, 4, 2, 2, (28, 28), \"MNIST-tiny\", skip=100, cmap=\"bwr\")"
      ],
      "execution_count": null,
      "outputs": [
        {
          "output_type": "stream",
          "text": [
            "Done: 0\n",
            "Done: 1\n",
            "Done: 0 of 301\n",
            "Done: 0 of 301\n",
            "Done: 1 of 301\n",
            "Done: 2 of 301\n",
            "Done: 3 of 301\n",
            "Done: 4 of 301\n",
            "Done: 5 of 301\n",
            "Done: 6 of 301\n",
            "Done: 7 of 301\n",
            "Done: 8 of 301\n",
            "Done: 9 of 301\n",
            "Done: 10 of 301\n",
            "Done: 11 of 301\n",
            "Done: 12 of 301\n",
            "Done: 13 of 301\n",
            "Done: 14 of 301\n",
            "Done: 15 of 301\n",
            "Done: 16 of 301\n",
            "Done: 17 of 301\n",
            "Done: 18 of 301\n",
            "Done: 19 of 301\n",
            "Done: 20 of 301\n",
            "Done: 21 of 301\n",
            "Done: 22 of 301\n",
            "Done: 23 of 301\n",
            "Done: 24 of 301\n",
            "Done: 25 of 301\n",
            "Done: 26 of 301\n",
            "Done: 27 of 301\n",
            "Done: 28 of 301\n",
            "Done: 29 of 301\n",
            "Done: 30 of 301\n",
            "Done: 31 of 301\n",
            "Done: 32 of 301\n",
            "Done: 33 of 301\n",
            "Done: 34 of 301\n",
            "Done: 35 of 301\n",
            "Done: 36 of 301\n",
            "Done: 37 of 301\n",
            "Done: 38 of 301\n",
            "Done: 39 of 301\n",
            "Done: 40 of 301\n",
            "Done: 41 of 301\n",
            "Done: 42 of 301\n",
            "Done: 43 of 301\n",
            "Done: 44 of 301\n",
            "Done: 45 of 301\n",
            "Done: 46 of 301\n",
            "Done: 47 of 301\n",
            "Done: 48 of 301\n",
            "Done: 49 of 301\n",
            "Done: 50 of 301\n",
            "Done: 51 of 301\n",
            "Done: 52 of 301\n",
            "Done: 53 of 301\n",
            "Done: 54 of 301\n",
            "Done: 55 of 301\n",
            "Done: 56 of 301\n",
            "Done: 57 of 301\n",
            "Done: 58 of 301\n",
            "Done: 59 of 301\n",
            "Done: 60 of 301\n",
            "Done: 61 of 301\n",
            "Done: 62 of 301\n",
            "Done: 63 of 301\n",
            "Done: 64 of 301\n",
            "Done: 65 of 301\n",
            "Done: 66 of 301\n",
            "Done: 67 of 301\n",
            "Done: 68 of 301\n",
            "Done: 69 of 301\n",
            "Done: 70 of 301\n",
            "Done: 71 of 301\n",
            "Done: 72 of 301\n",
            "Done: 73 of 301\n",
            "Done: 74 of 301\n",
            "Done: 75 of 301\n",
            "Done: 76 of 301\n",
            "Done: 77 of 301\n",
            "Done: 78 of 301\n",
            "Done: 79 of 301\n",
            "Done: 80 of 301\n",
            "Done: 81 of 301\n",
            "Done: 82 of 301\n",
            "Done: 83 of 301\n",
            "Done: 84 of 301\n",
            "Done: 85 of 301\n",
            "Done: 86 of 301\n",
            "Done: 87 of 301\n",
            "Done: 88 of 301\n",
            "Done: 89 of 301\n",
            "Done: 90 of 301\n",
            "Done: 91 of 301\n",
            "Done: 92 of 301\n",
            "Done: 93 of 301\n",
            "Done: 94 of 301\n",
            "Done: 95 of 301\n",
            "Done: 96 of 301\n",
            "Done: 97 of 301\n",
            "Done: 98 of 301\n",
            "Done: 99 of 301\n",
            "Done: 100 of 301\n",
            "Done: 101 of 301\n",
            "Done: 102 of 301\n",
            "Done: 103 of 301\n",
            "Done: 104 of 301\n",
            "Done: 105 of 301\n",
            "Done: 106 of 301\n",
            "Done: 107 of 301\n",
            "Done: 108 of 301\n",
            "Done: 109 of 301\n",
            "Done: 110 of 301\n",
            "Done: 111 of 301\n",
            "Done: 112 of 301\n",
            "Done: 113 of 301\n",
            "Done: 114 of 301\n",
            "Done: 115 of 301\n",
            "Done: 116 of 301\n",
            "Done: 117 of 301\n",
            "Done: 118 of 301\n",
            "Done: 119 of 301\n",
            "Done: 120 of 301\n",
            "Done: 121 of 301\n",
            "Done: 122 of 301\n",
            "Done: 123 of 301\n",
            "Done: 124 of 301\n",
            "Done: 125 of 301\n",
            "Done: 126 of 301\n",
            "Done: 127 of 301\n",
            "Done: 128 of 301\n",
            "Done: 129 of 301\n",
            "Done: 130 of 301\n",
            "Done: 131 of 301\n",
            "Done: 132 of 301\n",
            "Done: 133 of 301\n",
            "Done: 134 of 301\n",
            "Done: 135 of 301\n",
            "Done: 136 of 301\n",
            "Done: 137 of 301\n",
            "Done: 138 of 301\n",
            "Done: 139 of 301\n",
            "Done: 140 of 301\n",
            "Done: 141 of 301\n",
            "Done: 142 of 301\n",
            "Done: 143 of 301\n",
            "Done: 144 of 301\n",
            "Done: 145 of 301\n",
            "Done: 146 of 301\n",
            "Done: 147 of 301\n",
            "Done: 148 of 301\n",
            "Done: 149 of 301\n",
            "Done: 150 of 301\n",
            "Done: 151 of 301\n",
            "Done: 152 of 301\n",
            "Done: 153 of 301\n",
            "Done: 154 of 301\n",
            "Done: 155 of 301\n",
            "Done: 156 of 301\n",
            "Done: 157 of 301\n",
            "Done: 158 of 301\n",
            "Done: 159 of 301\n",
            "Done: 160 of 301\n",
            "Done: 161 of 301\n",
            "Done: 162 of 301\n",
            "Done: 163 of 301\n",
            "Done: 164 of 301\n",
            "Done: 165 of 301\n",
            "Done: 166 of 301\n",
            "Done: 167 of 301\n",
            "Done: 168 of 301\n",
            "Done: 169 of 301\n",
            "Done: 170 of 301\n",
            "Done: 171 of 301\n",
            "Done: 172 of 301\n",
            "Done: 173 of 301\n",
            "Done: 174 of 301\n",
            "Done: 175 of 301\n",
            "Done: 176 of 301\n",
            "Done: 177 of 301\n",
            "Done: 178 of 301\n",
            "Done: 179 of 301\n",
            "Done: 180 of 301\n",
            "Done: 181 of 301\n",
            "Done: 182 of 301\n",
            "Done: 183 of 301\n",
            "Done: 184 of 301\n",
            "Done: 185 of 301\n",
            "Done: 186 of 301\n",
            "Done: 187 of 301\n",
            "Done: 188 of 301\n",
            "Done: 189 of 301\n",
            "Done: 190 of 301\n",
            "Done: 191 of 301\n",
            "Done: 192 of 301\n",
            "Done: 193 of 301\n",
            "Done: 194 of 301\n",
            "Done: 195 of 301\n",
            "Done: 196 of 301\n",
            "Done: 197 of 301\n",
            "Done: 198 of 301\n",
            "Done: 199 of 301\n",
            "Done: 200 of 301\n",
            "Done: 201 of 301\n",
            "Done: 202 of 301\n",
            "Done: 203 of 301\n",
            "Done: 204 of 301\n",
            "Done: 205 of 301\n",
            "Done: 206 of 301\n",
            "Done: 207 of 301\n",
            "Done: 208 of 301\n",
            "Done: 209 of 301\n",
            "Done: 210 of 301\n",
            "Done: 211 of 301\n",
            "Done: 212 of 301\n",
            "Done: 213 of 301\n",
            "Done: 214 of 301\n",
            "Done: 215 of 301\n",
            "Done: 216 of 301\n",
            "Done: 217 of 301\n",
            "Done: 218 of 301\n",
            "Done: 219 of 301\n",
            "Done: 220 of 301\n",
            "Done: 221 of 301\n",
            "Done: 222 of 301\n",
            "Done: 223 of 301\n",
            "Done: 224 of 301\n",
            "Done: 225 of 301\n",
            "Done: 226 of 301\n",
            "Done: 227 of 301\n",
            "Done: 228 of 301\n",
            "Done: 229 of 301\n",
            "Done: 230 of 301\n",
            "Done: 231 of 301\n",
            "Done: 232 of 301\n",
            "Done: 233 of 301\n",
            "Done: 234 of 301\n",
            "Done: 235 of 301\n",
            "Done: 236 of 301\n",
            "Done: 237 of 301\n",
            "Done: 238 of 301\n",
            "Done: 239 of 301\n",
            "Done: 240 of 301\n",
            "Done: 241 of 301\n",
            "Done: 242 of 301\n",
            "Done: 243 of 301\n",
            "Done: 244 of 301\n",
            "Done: 245 of 301\n",
            "Done: 246 of 301\n",
            "Done: 247 of 301\n",
            "Done: 248 of 301\n",
            "Done: 249 of 301\n",
            "Done: 250 of 301\n",
            "Done: 251 of 301\n",
            "Done: 252 of 301\n",
            "Done: 253 of 301\n",
            "Done: 254 of 301\n",
            "Done: 255 of 301\n",
            "Done: 256 of 301\n",
            "Done: 257 of 301\n",
            "Done: 258 of 301\n",
            "Done: 259 of 301\n",
            "Done: 260 of 301\n",
            "Done: 261 of 301\n",
            "Done: 262 of 301\n",
            "Done: 263 of 301\n",
            "Done: 264 of 301\n",
            "Done: 265 of 301\n",
            "Done: 266 of 301\n",
            "Done: 267 of 301\n",
            "Done: 268 of 301\n",
            "Done: 269 of 301\n",
            "Done: 270 of 301\n",
            "Done: 271 of 301\n",
            "Done: 272 of 301\n",
            "Done: 273 of 301\n",
            "Done: 274 of 301\n",
            "Done: 275 of 301\n",
            "Done: 276 of 301\n",
            "Done: 277 of 301\n",
            "Done: 278 of 301\n",
            "Done: 279 of 301\n",
            "Done: 280 of 301\n",
            "Done: 281 of 301\n",
            "Done: 282 of 301\n",
            "Done: 283 of 301\n",
            "Done: 284 of 301\n",
            "Done: 285 of 301\n",
            "Done: 286 of 301\n",
            "Done: 287 of 301\n",
            "Done: 288 of 301\n",
            "Done: 289 of 301\n",
            "Done: 290 of 301\n",
            "Done: 291 of 301\n",
            "Done: 292 of 301\n",
            "Done: 293 of 301\n",
            "Done: 294 of 301\n",
            "Done: 295 of 301\n",
            "Done: 296 of 301\n",
            "Done: 297 of 301\n",
            "Done: 298 of 301\n",
            "Done: 299 of 301\n",
            "Done: 300 of 301\n"
          ],
          "name": "stdout"
        },
        {
          "output_type": "display_data",
          "data": {
            "image/png": "[encoded data removed]",
            "text/plain": [
              "<Figure size 720x432 with 2 Axes>"
            ]
          },
          "metadata": {
            "tags": [],
            "needs_background": "light"
          }
        }
      ]
    },
    {
      "cell_type": "code",
      "metadata": {
        "id": "tfH1Ktwgn9Y0",
        "colab_type": "code",
        "colab": {}
      },
      "source": [
        ""
      ],
      "execution_count": null,
      "outputs": []
    }
  ]
}